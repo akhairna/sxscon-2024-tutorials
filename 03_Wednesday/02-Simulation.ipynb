{
 "cells": [
  {
   "cell_type": "markdown",
   "metadata": {},
   "source": [
    "# Simulation\n",
    "\n",
    "Each simulation is encapsulated as an object that is responsible for\n",
    "finding the location of each dataset in the simulation, loading it —\n",
    "which may involve downloading and caching the relevant file — and\n",
    "returning an object that can be used to access that piece of data.\n"
   ]
  },
  {
   "cell_type": "markdown",
   "metadata": {},
   "source": [
    "## Location\n",
    "\n",
    "We begin by simply loading the simulation.  There are three pieces of\n",
    "information needed to identify a simulation:\n",
    "\n",
    "  1. SXS ID\n",
    "\n",
    "     This identifies the simulation type and includes a number.  For\n",
    "     example, \"SXS:BBH:0123\", which identifies this simulation as a\n",
    "     product of the SXS collaboration, specifies that it is a binary\n",
    "     black hole simulation, and that it has been assigned the number\n",
    "     \"0123\" in that series.  Note that these numbers are not\n",
    "     necessarily sequential.  Nor do they necessarily correspond to\n",
    "     the relative age of the simulation; that information is contained\n",
    "     in the metadata itself in the various `date_*` keys.\n",
    "\n",
    "  2. Version\n",
    "     \n",
    "     This identifies the version of the data — like \"v2.0\".  Unlike\n",
    "     the SXS ID, this is an optional specifier.  If not provided, the\n",
    "     most recent version is used.  All versions refer to the same\n",
    "     underlying simulation, but the raw data may have been processed\n",
    "     differently, may be provided in incompatible formats, etc.  For\n",
    "     exploratory work, it is often convenient to simply use the most\n",
    "     recent version.  However, for reproducibility, it is important to\n",
    "     specify the version of the data you use for a given analysis.\n",
    "\n",
    "   3. Lev (resolution)\n",
    "      \n",
    "      This identifies the resolution of the simulation — like \"Lev5\".\n",
    "      This is also optional.  If not provided, the highest resolution\n",
    "      is used.  Note that there is no consistency in the \"Lev\"s\n",
    "      provided for different simulations, nor is there necessarily\n",
    "      even consistency in the meaning of the \"Lev\" between different\n",
    "      simulations (they are not always directly comparable).  Again,\n",
    "      for reproducibility, it is important to specify the resolution\n",
    "      of the data you use for a given analysis.\n",
    "\n",
    "These three pieces of information may be combined into a single string as in\n",
    "any of the following examples of valid inputs:\n",
    "\n",
    "    SXS:BBH:0123\n",
    "    SXS:BBH:0123v2.0\n",
    "    SXS:BBH:0123/Lev5\n",
    "    SXS:BBH:0123v2.0/Lev5\n",
    "\n",
    "The full specification including ID, version, and Lev is called the\n",
    "\"location\", but any of these can be provided to load the simulation:\n",
    "\n",
    "```python\n",
    "sxs.load(\"SXS:BBH:0123\")\n",
    "sxs.load(\"SXS:BBH:0123v2.0\")\n",
    "sxs.load(\"SXS:BBH:0123/Lev5\")\n",
    "sxs.load(\"SXS:BBH:0123v2.0/Lev5\")\n",
    "```"
   ]
  },
  {
   "cell_type": "markdown",
   "metadata": {},
   "source": [
    "## Deprecated or superseded\n",
    "\n",
    "Many simulations are now quite old, and do not have the benefit of\n",
    "years of refinements to the simulation code.  As a result, the SXS\n",
    "collaboration has deprecated many of them, and replaced them with\n",
    "newer simulations of (nearly) the same physical parameters.\n",
    "\n",
    "By default, a deprecated simulation raise an error if you attempt to\n",
    "load it.  However, you can still load it if you want to, by choosing\n",
    "one of the following options:\n",
    "\n",
    "1. Pass `ignore_deprecation=True` to completely bypass even checking\n",
    "   for deprecation or supersession.  No warnings or errors will be\n",
    "   issued.\n",
    "2. Include an explicit version number in the `location` string, as in\n",
    "   \"SXS:BBH:0123v2.0\".  A warning will be issued that the simulation\n",
    "   is deprecated, but it will be loaded anyway.\n",
    "3. Pass `auto_supersede=True` to automatically load the superseding\n",
    "   simulation, if there is only one.  Because no superseding\n",
    "   simulation can be *precisely* the same as the deprecated one, there\n",
    "   may be multiple superseding simulations that have very similar\n",
    "   parameters, in which case an error will be raised and you must\n",
    "   explicitly choose one.  If there is only one, a warning will be\n",
    "   issued, but the superseding simulation will be loaded.\n",
    "4. Configure `sxs` to automatically load superseding simulations by\n",
    "   default with `sxs.write_config(auto_supersede=True)`.  This has the\n",
    "   same effect as passing `auto_supersede=True` to every call to\n",
    "   `sxs.load`.\n",
    "\n",
    "Otherwise, a `ValueError` will be raised, with an explanation and\n",
    "suggestions on what you might want to do.\n",
    "\n",
    "In this case, \"SXS:BBH:0123\" is deprecated, and has been superseded by\n",
    "the much newer simulation \"SXS:BBH:2394\".  We can load the superseding\n",
    "simulation as"
   ]
  },
  {
   "cell_type": "code",
   "execution_count": null,
   "metadata": {},
   "outputs": [],
   "source": [
    "import sxs\n",
    "\n",
    "sxs_bbh = sxs.load(\"SXS:BBH:0123\", auto_supersede=True)"
   ]
  },
  {
   "cell_type": "markdown",
   "metadata": {},
   "source": [
    "We can see that, even though we requested \"SXS:BBH:0123\", the location of the output\n",
    "simulation object is \"SXS:BBH:2394\":"
   ]
  },
  {
   "cell_type": "code",
   "execution_count": null,
   "metadata": {},
   "outputs": [],
   "source": [
    "sxs_bbh.location"
   ]
  },
  {
   "cell_type": "markdown",
   "metadata": {},
   "source": [
    "Note that the version \"v2.0\" and \"Lev3\" were automatically chosen as the highest values, respectively."
   ]
  },
  {
   "cell_type": "markdown",
   "metadata": {},
   "source": [
    "## Metadata\n",
    "\n",
    "At this point, only the metadata (mentioned in the previous notebook) has been loaded, which we can access naturally:"
   ]
  },
  {
   "cell_type": "code",
   "execution_count": null,
   "metadata": {},
   "outputs": [],
   "source": [
    "sxs_bbh.metadata"
   ]
  },
  {
   "cell_type": "markdown",
   "metadata": {},
   "source": [
    "Just as `simulations.dataframe` allows us to extract the metadata for all simulations as a uniform `pandas` table, we can extract the metadata for this one simulation in a format consistent with other simulations as a `pandas` series:"
   ]
  },
  {
   "cell_type": "code",
   "execution_count": null,
   "metadata": {},
   "outputs": [],
   "source": [
    "import pandas as pd\n",
    "\n",
    "# The next line is just to ensure the output doesn't look ugly in the docs\n",
    "with pd.option_context(\"max_colwidth\", 46):\n",
    "    display(sxs_bbh.series)"
   ]
  },
  {
   "cell_type": "markdown",
   "metadata": {},
   "source": [
    "Various relevant pieces of information about the simulation are also\n",
    "available as attributes of the simulation object.  For example, we may\n",
    "wish to know which versions are available:"
   ]
  },
  {
   "cell_type": "code",
   "execution_count": null,
   "metadata": {},
   "outputs": [],
   "source": [
    "sxs_bbh.versions"
   ]
  },
  {
   "cell_type": "markdown",
   "metadata": {},
   "source": [
    "In this case, only the generic version, `\"\"`, and a version from the second catalog, `\"v2.0\"`, are available, because SXS:BBH:2394 is a new simulation.\n",
    "\n",
    "These versions track modifications to the files representing the data and — together with the SXS ID — establish the unique identifier for the data set.  This unique identifier is also published as a DOI.  The DOI prefix for SXS data is 10.26138, and the full DOI for any simulation is given by combining these:"
   ]
  },
  {
   "cell_type": "code",
   "execution_count": null,
   "metadata": {},
   "outputs": [],
   "source": [
    "sxs_bbh.url"
   ]
  },
  {
   "cell_type": "markdown",
   "metadata": {},
   "source": [
    "These DOIs are permanent and can be used to refer to the data in\n",
    "publications, in the same way that DOIs for journal articles are used.\n",
    "They point to deposits of the data in the Zenodo repository, which is\n",
    "a long-term, open-access archive.  This is also where the data are\n",
    "automatically obtained when you load a particular data set for the\n",
    "first time."
   ]
  },
  {
   "cell_type": "markdown",
   "metadata": {},
   "source": [
    "## Data\n",
    "\n",
    "Besides the metadata, the remaining data sets are loaded lazily.  This\n",
    "means that we can access the data as needed, but the cost in time and\n",
    "resources is not paid unless and until the data is actually accessed.\n",
    "Specifically, the time to download the data if needed, the disk space\n",
    "required to cache it if desired, the time to load the data from disk,\n",
    "and the memory required to store it are all deferred to the point of\n",
    "use.\n",
    "\n",
    "For example, we can access data describing the horizons as"
   ]
  },
  {
   "cell_type": "code",
   "execution_count": null,
   "metadata": {},
   "outputs": [],
   "source": [
    "sxs_bbh.horizons"
   ]
  },
  {
   "cell_type": "markdown",
   "metadata": {},
   "source": [
    "And data describing the waveform as"
   ]
  },
  {
   "cell_type": "code",
   "execution_count": null,
   "metadata": {},
   "outputs": [],
   "source": [
    "sxs_bbh.h"
   ]
  },
  {
   "cell_type": "markdown",
   "metadata": {},
   "source": [
    "The objects returned will be the subject of the next two notebooks in this series:\n",
    "\n",
    "- [`Horizons`](/tutorials/03-Horizons)\n",
    "- [`WaveformModes`](/tutorials/04-Waveforms)"
   ]
  }
 ],
 "metadata": {
  "kernelspec": {
   "display_name": "Python 3",
   "language": "python",
   "name": "python3"
  },
  "language_info": {
   "codemirror_mode": {
    "name": "ipython",
    "version": 3
   },
   "file_extension": ".py",
   "mimetype": "text/x-python",
   "name": "python",
   "nbconvert_exporter": "python",
   "pygments_lexer": "ipython3",
   "version": "3.11.9"
  },
  "widgets": {
   "application/vnd.jupyter.widget-state+json": {
    "state": {},
    "version_major": 2,
    "version_minor": 0
   }
  }
 },
 "nbformat": 4,
 "nbformat_minor": 4
}
