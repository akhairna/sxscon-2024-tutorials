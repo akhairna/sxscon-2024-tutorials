{
 "cells": [
  {
   "cell_type": "markdown",
   "metadata": {},
   "source": [
    "# Horizons"
   ]
  },
  {
   "cell_type": "markdown",
   "metadata": {},
   "source": [
    "Data about the horizons can be loaded by first loading a simulation, then accessing the `horizons` attribute:"
   ]
  },
  {
   "cell_type": "code",
   "execution_count": null,
   "metadata": {
    "ExecuteTime": {
     "end_time": "2020-09-17T15:29:24.187814Z",
     "start_time": "2020-09-17T15:29:16.556445Z"
    }
   },
   "outputs": [],
   "source": [
    "import matplotlib.pyplot as plt\n",
    "import numpy as np\n",
    "import sxs\n",
    "\n",
    "sxs_bbh_1234 = sxs.load(\"SXS:BBH:1234\")\n",
    "horizons = sxs_bbh_1234.horizons"
   ]
  },
  {
   "cell_type": "markdown",
   "metadata": {},
   "source": [
    "The `horizons` object itself has three main attributes, which just store quantities related to the three component apparent horizons:"
   ]
  },
  {
   "cell_type": "code",
   "execution_count": null,
   "metadata": {
    "ExecuteTime": {
     "end_time": "2020-09-17T15:29:24.195482Z",
     "start_time": "2020-09-17T15:29:24.189845Z"
    }
   },
   "outputs": [],
   "source": [
    "horizons.A, horizons.B, horizons.C"
   ]
  },
  {
   "cell_type": "markdown",
   "metadata": {},
   "source": [
    "Horizon A corresponds to the first black hole during inspiral, horizon B to the second during inspiral, and horizon C to the final black hole — the common apparent horizon.\n",
    "\n",
    "Each horizon object stores information about its masses (areal and Christodoulou), spins (dimensionless and dimensionful), and coordinate trajectory of the center of horizon.\n",
    "\n",
    "We can list all the (public) attributes of each horizon:"
   ]
  },
  {
   "cell_type": "code",
   "execution_count": null,
   "metadata": {
    "ExecuteTime": {
     "end_time": "2020-09-17T15:29:24.202662Z",
     "start_time": "2020-09-17T15:29:24.197925Z"
    }
   },
   "outputs": [],
   "source": [
    "[attribute for attribute in dir(horizons.A) if not attribute.startswith(\"_\")]"
   ]
  },
  {
   "cell_type": "markdown",
   "metadata": {},
   "source": [
    "[Note that `chi_mag_inertial` is just an alias for `chi_inertial_mag`, kept for backwards compatibility.  The `_mag` attributes just return the Euclidean norm of the corresponding vectors.]\n",
    "\n",
    "For example, we can plot both types of masses for all three horizons:"
   ]
  },
  {
   "cell_type": "code",
   "execution_count": null,
   "metadata": {
    "ExecuteTime": {
     "end_time": "2020-09-17T15:29:25.506152Z",
     "start_time": "2020-09-17T15:29:24.204670Z"
    }
   },
   "outputs": [],
   "source": [
    "plt.plot(horizons.A.time, horizons.A.christodoulou_mass, label=r\"Christodoulou mass $A$\")\n",
    "plt.plot(horizons.A.time, horizons.A.areal_mass, label=r\"Areal mass $A$\")\n",
    "plt.plot(horizons.B.time, horizons.B.christodoulou_mass, label=r\"Christodoulou mass $B$\")\n",
    "plt.plot(horizons.B.time, horizons.B.areal_mass, label=r\"Areal mass $B$\")\n",
    "plt.plot(horizons.C.time, horizons.C.christodoulou_mass, label=r\"Christodoulou mass $C$\")\n",
    "plt.plot(horizons.C.time, horizons.C.areal_mass, label=r\"Areal mass $C$\")\n",
    "plt.title(\"Horizon masses\")\n",
    "plt.ylabel(r\"Mass (simulation units)\")\n",
    "plt.xlabel(r\"Time (simulation units)\")\n",
    "plt.ylim(bottom=0.0)\n",
    "plt.legend();"
   ]
  },
  {
   "cell_type": "markdown",
   "metadata": {},
   "source": [
    "Or we can plot the coordinate trajectory of horizon A:"
   ]
  },
  {
   "cell_type": "code",
   "execution_count": null,
   "metadata": {
    "ExecuteTime": {
     "end_time": "2020-09-17T15:29:26.095900Z",
     "start_time": "2020-09-17T15:29:25.507765Z"
    }
   },
   "outputs": [],
   "source": [
    "plt.plot(horizons.A.time, horizons.A.coord_center_inertial)\n",
    "plt.title(\"Horizon A coordinate center in the inertial frame\")\n",
    "plt.ylabel(r\"Position vector components (simulation units)\")\n",
    "plt.xlabel(r\"Time (simulation units)\")\n",
    "plt.legend([r\"$x$\", r\"$y$\", r\"$z$\"]);"
   ]
  },
  {
   "cell_type": "markdown",
   "metadata": {},
   "source": [
    "We can measure the Newtonian center of mass motion as a function of time:"
   ]
  },
  {
   "cell_type": "code",
   "execution_count": null,
   "metadata": {
    "ExecuteTime": {
     "end_time": "2020-09-17T15:29:26.101097Z",
     "start_time": "2020-09-17T15:29:26.097661Z"
    }
   },
   "outputs": [],
   "source": [
    "com = horizons.newtonian_com"
   ]
  },
  {
   "cell_type": "markdown",
   "metadata": {},
   "source": [
    "We will see below that the motion is distinctly non-inertial, so we also fit the measured motion to an averaged inertial motion:"
   ]
  },
  {
   "cell_type": "code",
   "execution_count": null,
   "metadata": {
    "ExecuteTime": {
     "end_time": "2020-09-17T15:29:27.108213Z",
     "start_time": "2020-09-17T15:29:26.103080Z"
    }
   },
   "outputs": [],
   "source": [
    "# x_i and v_i are the best-fit initial translation and velocity\n",
    "x_i, v_i, t_i, t_f = horizons.average_com_motion()\n",
    "\n",
    "# Here, we express these as functions of time for plotting purposes\n",
    "com_average = sxs.TimeSeries(\n",
    "    x_i[np.newaxis] + v_i[np.newaxis] * horizons.A.time[:, np.newaxis],\n",
    "    horizons.A.time\n",
    ")"
   ]
  },
  {
   "cell_type": "markdown",
   "metadata": {},
   "source": [
    "Now, we can plot them:"
   ]
  },
  {
   "cell_type": "code",
   "execution_count": null,
   "metadata": {
    "ExecuteTime": {
     "end_time": "2020-09-17T15:29:27.678113Z",
     "start_time": "2020-09-17T15:29:27.110903Z"
    }
   },
   "outputs": [],
   "source": [
    "# Plot the measured and averaged components (and keep the lines)\n",
    "measured = plt.plot(horizons.A.time, com)\n",
    "averaged = plt.plot(horizons.A.time, com_average, ls='dashed')\n",
    "\n",
    "# Copy colors from solid to dashed lines\n",
    "for l1, l2 in zip(measured, averaged):\n",
    "    l2.set_color(l1.get_color())\n",
    "\n",
    "plt.title(\"Newtonian center of mass of A-B horizon system\")\n",
    "plt.ylabel(r\"Position vector components (simulation units)\")\n",
    "plt.xlabel(r\"Time (simulation units)\")\n",
    "plt.legend([r\"$x$\", r\"$y$\", r\"$z$\"]);"
   ]
  },
  {
   "cell_type": "markdown",
   "metadata": {},
   "source": [
    "There are some remarkable features of this plot:\n",
    "\n",
    "1. There are large oscillations that are not consistent with any motions we expect on physical grounds.\n",
    "2. The oscillations change suddenly just before merger — right around the time a gauge change is applied in the simulation.  This suggests, of course, that the oscillations can be at least partially attributed to gauge weirdness.\n",
    "3. Beyond the oscillations there is also significant drift, ending up near merger displaced by around $0.1M$ from the origin of coordinates.\n",
    "\n",
    "The averaged motion is, of course, just a Poincaré transformation, so we can remove it from the data.  When we remove this transformation from the *waveforms* we find that certain unexpected features in the waveform disappear.  This was the subject of [this paper](https://arxiv.org/abs/1509.00862) as well as [a paper by CJ Woodford et al.](https://arxiv.org/abs/1904.04842), and we will see more about this in the next notebook."
   ]
  },
  {
   "cell_type": "markdown",
   "metadata": {},
   "source": [
    "## Backwards compatibility\n",
    "\n",
    "Previously, the recommended way to load data from a file was to open it with `h5py`, and then directly extract datasets.  The user might do something like this:\n",
    "\n",
    "```python\n",
    "with h5py.File(\"Horizons.h5\", \"r\") as horizons:\n",
    "    time = horizons[\"AhA.dir/ArealMass.dat\"][:, 0]\n",
    "    areal_mass = horizons[\"AhA.dir/ArealMass.dat\"][:, 1]\n",
    "```\n",
    "\n",
    "With newer data, this code will break because the format of the files has changed.  However, we can use the `horizons` object to provide an interface that is as close as possible to the old interface so that code that works with the old files can continue to work with new files, with a minimal set of changes.\n",
    "\n",
    "In particular, it is still possible to extract that data from the `horizons` object:"
   ]
  },
  {
   "cell_type": "code",
   "execution_count": null,
   "metadata": {
    "ExecuteTime": {
     "end_time": "2020-09-17T15:29:27.684624Z",
     "start_time": "2020-09-17T15:29:27.680037Z"
    }
   },
   "outputs": [],
   "source": [
    "horizons[\"AhA.dir/ArealMass.dat\"]"
   ]
  },
  {
   "cell_type": "markdown",
   "metadata": {},
   "source": [
    "This actually reconstructs the arrays that the HDF5 file would contain on the fly.  The same is true for all of the datasets found in the old-format `Horizons.h5` files.  (And we will see that it is also true for waveform objects.)\n",
    "\n",
    "In fact, we even have a simple little context manager that takes the place of `h5py.File`:\n",
    "\n",
    "```python\n",
    "with sxs.loadcontext(\"Horizons.h5\") as horizons:\n",
    "    time = horizons[\"AhA.dir/ArealMass.dat\"][:, 0]\n",
    "    areal_mass = horizons[\"AhA.dir/ArealMass.dat\"][:, 1]\n",
    "```\n",
    "\n",
    "Thus, only ***one function call*** would need to change to use newer files.  (And in fact, the `loadcontext` function is even a bit nicer because it can handle the downloading and caching for you, just like `sxs.load`.)\n",
    "\n",
    "However, be aware that this may not an be efficient use of memory, and is almost certainly slower than the newer interfaces.  Wherever possible, you should update your code to use newer interfaces.  Failing to do so will leave you open to ridicule from your peers and loved ones."
   ]
  },
  {
   "cell_type": "markdown",
   "metadata": {},
   "source": [
    "Continue with the [introduction to waveforms](/tutorials/04-Waveforms)."
   ]
  }
 ],
 "metadata": {
  "kernelspec": {
   "display_name": "Python 3",
   "language": "python",
   "name": "python3"
  },
  "language_info": {
   "codemirror_mode": {
    "name": "ipython",
    "version": 3
   },
   "file_extension": ".py",
   "mimetype": "text/x-python",
   "name": "python",
   "nbconvert_exporter": "python",
   "pygments_lexer": "ipython3",
   "version": "3.11.9"
  },
  "widgets": {
   "application/vnd.jupyter.widget-state+json": {
    "state": {},
    "version_major": 2,
    "version_minor": 0
   }
  }
 },
 "nbformat": 4,
 "nbformat_minor": 4
}
