{
 "cells": [
  {
   "cell_type": "code",
   "execution_count": null,
   "metadata": {},
   "outputs": [],
   "source": [
    "import spectre\n",
    "import spectre.IO.H5 as spectre_h5\n",
    "from spectre.Visualization.ReadH5 import to_dataframe\n",
    "from spectre.Visualization.PlotCce import plot_cce\n",
    "\n",
    "import scri\n",
    "import spherical_functions as sf\n",
    "\n",
    "import h5py\n",
    "import numpy as np\n",
    "import matplotlib.pyplot as plt\n",
    "from pathlib import Path"
   ]
  },
  {
   "cell_type": "markdown",
   "metadata": {},
   "source": [
    "# Cauchy-Characteristic Evolution\n",
    "\n",
    "In this tutorial we will cover how to obtain, run, and examine the output from SpECTRE's CCE module.\n",
    "\n",
    "Most of the information in this tutorial can also be found in our [running CCE tutorial](https://spectre-code.org/tutorial_cce.html).\n",
    "\n",
    "## Obtaining SpECTRE's CCE Module\n",
    " By far the easiest way to obtain the CCE module, is by downloading the pre-built binary from the latest [SpECTRE release](https://github.com/sxs-collaboration/spectre/releases).\n",
    "\n"
   ]
  },
  {
   "cell_type": "code",
   "execution_count": null,
   "metadata": {
    "scrolled": true,
    "vscode": {
     "languageId": "shellscript"
    }
   },
   "outputs": [],
   "source": [
    "%%bash\n",
    "mkdir -p runs\n",
    "rm -rf runs/CceExecutables*\n",
    "cd runs\n",
    "wget https://github.com/sxs-collaboration/spectre/releases/download/v2024.08.03/CceExecutables.tar.xz\n",
    "tar -xf CceExecutables.tar.xz"
   ]
  },
  {
   "cell_type": "markdown",
   "metadata": {},
   "source": [
    "This tarball provides:\n",
    "\n",
    "- the CCE executable `CharacteristicExtract`\n",
    "- example worldtube data\n",
    "- example input file\n",
    "- example output from CCE\n",
    "- worldtube data format converter\n",
    "- python script to check example data\n",
    "\n",
    "Before we do anything else, let's make sure the executable runs correctly and that we obtain the expected output. This should run for only a couple minutes."
   ]
  },
  {
   "cell_type": "code",
   "execution_count": null,
   "metadata": {
    "vscode": {
     "languageId": "shellscript"
    }
   },
   "outputs": [],
   "source": [
    "%%bash\n",
    "cd runs/CceExecutables/\n",
    "rm -f CharacteristicExtractReduction.h5\n",
    "./CharacteristicExtract --input-file CharacteristicExtract.yaml\n",
    "python CheckCceOutput.py"
   ]
  },
  {
   "cell_type": "markdown",
   "metadata": {},
   "source": [
    "### SUCCESS: The CCE output is as expected! Yay!\n",
    "\n",
    "If you get this message, awesome! That means the executable worked correctly.\n",
    "\n",
    "## The input file\n",
    "\n",
    "Now let's take a look the input .yaml file that we just used and study the settings that were used. This input file can already be used in its current form to produce production-level CCE waveforms. All you need to change is the path to the worldtube data.\n",
    "\n",
    "Open the `runs/CceExecutables/CharacteristicExtract.yaml` file in a new tab to find some nice syntax highlighting. We'll briefly explain the varous options (i.e., which ones are important to change for every run and which ones you should probably not change).\n",
    "\n",
    "## The worldtube data\n",
    "\n",
    "Now let's take a look at what's required in the worldtube data, and how we expect it to be formatted. First there is an \"alphabet soup\" of Bondi variables that must be contained in the H5 worldtube file. All of these variables must be in the spectre H5::Dat format."
   ]
  },
  {
   "cell_type": "code",
   "execution_count": null,
   "metadata": {},
   "outputs": [],
   "source": [
    "%%bash\n",
    "cd runs/CceExecutables/\n",
    "h5ls -r BondiSachsCceR0200.h5"
   ]
  },
  {
   "cell_type": "markdown",
   "metadata": {},
   "source": [
    "The exact meaning of these variables can be found in [arXiv:2110.08635](https://arxiv.org/abs/2110.08635)."
   ]
  },
  {
   "cell_type": "code",
   "execution_count": null,
   "metadata": {},
   "outputs": [],
   "source": [
    "worldtube_data = spectre_h5.H5File(\"runs/CceExecutables/BondiSachsCceR0200.h5\", \"r\")\n",
    "bondi_J_dat_file = worldtube_data.get_dat(\"J\")\n",
    "print(f\"Dimensions: {bondi_J_dat_file.get_dimensions()}\")\n",
    "print(f\"Version: {bondi_J_dat_file.get_version()}\")\n",
    "print(f\"Header:\\n{bondi_J_dat_file.get_header()}\")\n",
    "\n",
    "# The legend is a bit too big to print, but we can calculate l_max from the size\n",
    "legend = bondi_J_dat_file.get_legend()\n",
    "print(legend[1])\n",
    "l_max = int(np.sqrt((bondi_J_dat_file.get_dimensions()[1] - 1) / 2) - 1)\n",
    "print(f\"L max: {l_max}\")"
   ]
  },
  {
   "cell_type": "code",
   "execution_count": null,
   "metadata": {},
   "outputs": [],
   "source": [
    "# Make the dat file into a Pandas DataFrame for easy manipulation\n",
    "bondi_J_df = to_dataframe(bondi_J_dat_file)\n",
    "\n",
    "coef_to_plot = \"Re(2,2)\"\n",
    "\n",
    "\n",
    "plt.plot(bondi_J_df[\"Time\"], bondi_J_df[coef_to_plot])\n",
    "plt.xlabel(\"Time (M)\")\n",
    "plt.ylabel(f\"Bondi J {coef_to_plot}\")"
   ]
  },
  {
   "cell_type": "markdown",
   "metadata": {},
   "source": [
    "So this example data isn't that long. It's only to test out that the executable works.\n",
    "\n",
    "## Real Worldtube Data\n",
    "\n",
    "Let's take a look at some real worltube data for a BBH simulation run with SpECTRE."
   ]
  },
  {
   "cell_type": "code",
   "execution_count": null,
   "metadata": {},
   "outputs": [],
   "source": [
    "cce_data_dir = Path(\"/oscar/data/icerm/knelli/workshop_materials/03_wednesday/cce\")\n",
    "worldtube_r292_file = cce_data_dir / \"BondiCceR0292.h5\"\n",
    "worldtube_data = spectre_h5.H5File(worldtube_r292_file, \"r\")\n",
    "\n",
    "# Now it's your turn!\n",
    "# - Open one of the bondi variable dat files from the H5 file\n",
    "# - Convert it to a pandas DataFrame\n",
    "# - Choose a coefficient and plot it!"
   ]
  },
  {
   "cell_type": "markdown",
   "metadata": {},
   "source": [
    "## Running CCE\n",
    "\n",
    "First, let's edit the input file in the `runs/CceExecutables` directory to point to the full worltube data. This would be the `BoundaryDataFilename` option. Change it to now point to `/oscar/data/icerm/knelli/workshop_materials/03_wednesday/cce/BondiSachsCceR0150.h5`\n",
    "\n",
    "Then, in the `03_Wednesday` directory there is a submit script for you to edit. The only thing you should have to add is the actual command that runs the executable.\n",
    "\n",
    "> Hint: To specify the input file to run with, add `--input-file NameOfInputFile.yaml` when you run the executable\n",
    "\n",
    "Once you've done this, submit your job!"
   ]
  },
  {
   "cell_type": "code",
   "execution_count": null,
   "metadata": {},
   "outputs": [],
   "source": [
    "%%bash\n",
    "sbatch SubmitCCE.sh"
   ]
  },
  {
   "cell_type": "markdown",
   "metadata": {},
   "source": [
    "This run will take several hours to finish, so you'll have to wait a bit to get your own data.\n",
    "\n",
    "But don't worry! We've already run CCE for you so have a chance to look at the output data.\n",
    "\n",
    "## Real CCE output data\n",
    "\n",
    "The CCE output data is located at `/oscar/data/icerm/knelli/workshop_materials/03_wednesday/cce/CharacteristicExtractReduction.h5`.\n",
    "\n",
    "Our spectre H5 python bindings know how to read the CCE output data"
   ]
  },
  {
   "cell_type": "code",
   "execution_count": null,
   "metadata": {},
   "outputs": [],
   "source": [
    "cce_output_file_name = cce_data_dir / \"CharacteristicExtractReduction.h5\"\n",
    "cce_output_file = spectre_h5.H5File(cce_output_file_name, \"r\")\n",
    "# The subfile name always has the extraction radius in it\n",
    "cce_output = cce_output_file.get_cce(\"SpectreR0292\", 8)\n",
    "\n",
    "# get_dimension requires you to specify a Bondi variable.\n",
    "# The choices are 'Strain', 'News', 'Psi0', ..., 'Psi4'\n",
    "print(f\"Dimensions Psi0: {cce_output.get_dimensions('Psi0')}\")\n",
    "print(f\"Version: {cce_output.get_version()}\")\n",
    "print(f\"Header:\\n{cce_output.get_header()}\")\n",
    "legend = cce_output.get_legend()\n",
    "print(f\"Legend size: {len(legend)}\")"
   ]
  },
  {
   "cell_type": "markdown",
   "metadata": {},
   "source": [
    "Rather than loading the data yourself and plotting it, the SpECTRE CLI and PyBindings conveniently provide a function that plots the interesting CCE output quantities. This includes\n",
    "\n",
    "- Strain\n",
    "- News\n",
    "- All Weyl scalars\n",
    "\n",
    "On the command line, to execute this function you can run\n",
    "\n",
    "```sh\n",
    "spectre plot cce -h\n",
    "```\n",
    "\n",
    "but since we're in a notebook, we can just call the function directly. This won't provide you with paper-quality plots of these quantities, but it can be extremely useful to obtain an initial idea of what your output looks like.\n",
    "\n",
    "Pick your favorite spherical harmonic modes to plot! Which ones from the previous session seem like they'd be interesting?"
   ]
  },
  {
   "cell_type": "code",
   "execution_count": null,
   "metadata": {},
   "outputs": [],
   "source": [
    "# Modes must be in the format: \"Real Y_l,m\" or \"Imag Y_l,m\"\n",
    "# Also, you must currently specify at least two otherwise you'll get an error.\n",
    "modes = [\"Real Y_2,2\", \"Imag Y_2,2\"]\n",
    "fig = plot_cce(cce_output_file_name, modes)\n",
    "plt.show()"
   ]
  },
  {
   "cell_type": "markdown",
   "metadata": {},
   "source": [
    "# Working with `scri`"
   ]
  },
  {
   "cell_type": "markdown",
   "metadata": {},
   "source": [
    "## Creating an AsymptoticBondiData (ABD) object using `scri`"
   ]
  },
  {
   "cell_type": "markdown",
   "metadata": {},
   "source": [
    "Now that we have an understanding of how to run SpECTRE's CCE module, we'll look into the python package `scri` which contains a number of useful tools for studying and working with the outputs of CCE.\n",
    "\n",
    "We'll start by construcing an `AsymptoticBondiData` (`ABD`) object, which contains\n",
    "- the shear $\\sigma=\\bar{h}/2$,\n",
    "- and the Weyl scalars $\\Psi_{i}$ for $i\\in\\{0,1,2,3,4\\}$.\n",
    "\n",
    "Each of these objects are stored as `ModesTimeSeries` objects, which is simply a class containing the spin-weight, time, and modal data of each object.\n",
    "\n",
    "To create an `ABD` object, one can simply use the `scri.create_abd_from_h5` function! All this needs is\n",
    "- `file_format`: the file format (which for CCE outputs is `SpECTRECCE_v1')\n",
    "- `file_name`: the CCE output file name\n",
    "\n",
    "But some other useful optional arguments are:\n",
    "- `radius`: the radius of the worldtube input to CCE (if this is set, the time array of the `ABD` object is time translated by the radius)\n",
    "- `ch_mass`: the total Christodoulou mass of the system (if this is set, the mass is scaled out of the time array and each element of the `ABD` object; usually this is set using the system's total Christodoulou mass extracted from the metadata, which $\\approx1.0$)\n",
    "- `t_interpolate`: a time array to interpolate to, e.g., the time array of the worldtube file\n",
    "- `t_0_superrest`: the time at which to fix the BMS frame to the superrest frame (we'll discuss this later in this session)\n",
    "- `padding_time`: the window encompassing `t_0_superrest` to use when fixing the BMS frame (we'll discuss this later in this session)\n",
    "\n",
    "So, without further ado, let's create an `ABD` object!"
   ]
  },
  {
   "cell_type": "code",
   "execution_count": null,
   "metadata": {},
   "outputs": [],
   "source": [
    "reductions_file_name = Path(\"/oscar/data/icerm/knelli/workshop_materials/03_wednesday/cce/CharacteristicExtractReduction.h5\")\n",
    "with h5py.File(reductions_file_name) as input_file:\n",
    "    radius = [x for x in input_file.keys() if 'Spectre' in x][0].split('SpectreR')[1][:4]\n",
    "\n",
    "worldtube_file_name = f\"/oscar/data/icerm/knelli/workshop_materials/03_wednesday/cce/BondiCceR{radius}.h5\"\n",
    "with h5py.File(worldtube_file_name) as input_file:\n",
    "    t_worldtube = scri.SpEC.file_io.monotonize(\n",
    "        np.array(input_file[\"J.dat\"])[:, 0]\n",
    "    )\n",
    "# We'll use a very sparse time array to speed up computations\n",
    "t_interpolate = np.arange(t_worldtube[0], t_worldtube[-1] + 1.0, 1.0)\n",
    "\n",
    "abd = scri.create_abd_from_h5(\n",
    "    file_format=\"SpECTRECCE_v1\",\n",
    "    file_name=str(reductions_file_name.resolve()),\n",
    "    radius=radius,\n",
    "    ch_mass=1.0, # this should be the system's total Christodoulou mass according to the metadata! We'll cover how to obtain this in the waveform data session.\n",
    "    t_interpolate=t_interpolate\n",
    ")"
   ]
  },
  {
   "cell_type": "markdown",
   "metadata": {},
   "source": [
    "## Checking the Bianchi violations"
   ]
  },
  {
   "cell_type": "markdown",
   "metadata": {},
   "source": [
    "One way to check that CCE worked and that our asymptotic bondi data is consistent with GR is to check the violation of the Bianchi identities:\n",
    "- $\\dot{\\Psi}_{0}=\\eth\\Psi_{1}+3\\sigma\\Psi_{2}$\n",
    "- $\\dot{\\Psi}_{1}=\\eth\\Psi_{2}+2\\sigma\\Psi_{2}$\n",
    "- $\\dot{\\Psi}_{2}=\\eth\\Psi_{3}+\\sigma\\Psi_{4}$\n",
    "- $\\Psi_{3}=-\\eth\\dot{\\bar{\\sigma}}$\n",
    "- $\\Psi_{4}=-\\ddot{\\bar{\\sigma}}$\n",
    "- $\\mathrm{Im}[\\Psi_{2}]=-\\mathrm{Im}[\\eth^{2}\\bar{\\sigma}+\\sigma\\dot{\\bar{\\sigma}}]$\n",
    "\n",
    "Dots denote time derivatives. Bars denote complex conjugates. $\\eth$ is the spin-weight operator. When acting on a spin-weight $s$ function $f$ it yields\n",
    "\n",
    "$\\eth f\\equiv-\\frac{1}{\\sqrt{2}}\\left(\\sin\\theta\\right)^{+s}\\left(\\partial_{\\theta}+i\\csc\\theta\\partial_{\\phi}\\right)\\left[\\left(\\sin\\theta\\right)^{-s}f\\right]$;\n",
    "\n",
    "or when acting on a spin-weight spherical harmonic $\\phantom{}_{s}Y_{(\\ell,m)}$ it yields\n",
    "\n",
    "$\\eth\\phantom{}_{s}Y_{(\\ell,m)}=\\frac{1}{\\sqrt{2}}\\sqrt{(\\ell-s)(\\ell+s+1)}\\phantom{}_{s+1}Y_{(\\ell,m)}$\n",
    "\n",
    "To check these, one can run `abd.bondi_violation_norm`. Let's try it!."
   ]
  },
  {
   "cell_type": "code",
   "execution_count": null,
   "metadata": {},
   "outputs": [],
   "source": [
    "bianchi_violations = abd.bondi_violation_norms"
   ]
  },
  {
   "cell_type": "markdown",
   "metadata": {},
   "source": [
    "And now let's plot them!"
   ]
  },
  {
   "cell_type": "code",
   "execution_count": null,
   "metadata": {},
   "outputs": [],
   "source": [
    "plt.semilogy(\n",
    "    abd.t,\n",
    "    np.array(bianchi_violations).T,\n",
    "    label=['$\\dot{\\Psi}_{0}$','$\\dot{\\Psi}_{1}$','$\\dot{\\Psi}_{2}$','$\\Psi_{3}$','$\\Psi_{4}$','$\\mathrm{Im}[\\Psi_{2}]$']\n",
    ")\n",
    "plt.legend(ncol=2)\n",
    "plt.xlabel('Time (M)')"
   ]
  },
  {
   "cell_type": "markdown",
   "metadata": {},
   "source": [
    "Overall this looks pretty reasonable. Any ideas for why $\\Psi_{0}$ and $\\Psi_{1}$ exhibit larger violations?"
   ]
  },
  {
   "cell_type": "markdown",
   "metadata": {},
   "source": [
    "## Plotting Waveforms"
   ]
  },
  {
   "cell_type": "markdown",
   "metadata": {},
   "source": [
    "Alright, now let's look at some waveforms! Let's start with the shear $\\sigma$ (which, as a reminder, is related to the strain $h$ via $h=2\\bar{\\sigma}$)."
   ]
  },
  {
   "cell_type": "code",
   "execution_count": null,
   "metadata": {},
   "outputs": [],
   "source": [
    "plt.plot(\n",
    "    abd.t,\n",
    "    abs(abd.sigma.ndarray[:,sf.LM_index(2,-2,0):sf.LM_index(2,2,0) + 1]),\n",
    "    label=['$(2,-2)$','$(2,-1)$','$(2,0)$','$(2,+1)$','$(2,+2)$']\n",
    ")\n",
    "plt.legend()\n",
    "plt.xlabel('Time (M)')\n",
    "plt.ylabel('shear')"
   ]
  },
  {
   "cell_type": "markdown",
   "metadata": {},
   "source": [
    "hmm, this looks a little weird; this is a $q=1$, non-spinning, quasi-circular BBH merger, so why is the shear's/strain's amplitude oscillatory?\n",
    "\n",
    "Maybe we can look at the charges to see if we notice anything strange."
   ]
  },
  {
   "cell_type": "markdown",
   "metadata": {},
   "source": [
    "## Examining Oddities in the Data"
   ]
  },
  {
   "cell_type": "markdown",
   "metadata": {},
   "source": [
    "Let's start with the center-of-mass charge. After all, we have yet to perform a center-of-mass correction!"
   ]
  },
  {
   "cell_type": "code",
   "execution_count": null,
   "metadata": {},
   "outputs": [],
   "source": [
    "G = abd.bondi_CoM_charge()"
   ]
  },
  {
   "cell_type": "code",
   "execution_count": null,
   "metadata": {},
   "outputs": [],
   "source": [
    "plt.plot(abd.t, G, label=['$G_{x}$','$G_{y}$','$G_{z}$'])\n",
    "plt.legend()\n",
    "plt.ylabel('center-of-mass charge')"
   ]
  },
  {
   "cell_type": "markdown",
   "metadata": {},
   "source": [
    "Uh oh! The above plot corresponds to our system's center-of-mass position; so it looks like our system's center-of-mass is moving! \n",
    "\n",
    "Let's fix that."
   ]
  },
  {
   "cell_type": "markdown",
   "metadata": {},
   "source": [
    "First we compute the transformation to map to the center-of-mass frame, i.e., the rest frame of the system."
   ]
  },
  {
   "cell_type": "code",
   "execution_count": null,
   "metadata": {},
   "outputs": [],
   "source": [
    "t_0 = 2000\n",
    "padding_time = 200\n",
    "idx1 = np.argmin(abs(abd.t - (t_0 - padding_time)))\n",
    "idx2 = np.argmin(abs(abd.t - (t_0 + padding_time))) + 1\n",
    "abd_inspiral = abd.interpolate(abd.t[idx1:idx2]) \n",
    "\n",
    "CoM_transformation, _ = scri.asymptotic_bondi_data.map_to_superrest_frame.com_transformation_to_map_to_superrest_frame(\n",
    "    abd_inspiral\n",
    ")"
   ]
  },
  {
   "cell_type": "markdown",
   "metadata": {},
   "source": [
    "This function returns a `BMSTransformation` object:"
   ]
  },
  {
   "cell_type": "code",
   "execution_count": null,
   "metadata": {},
   "outputs": [],
   "source": [
    "CoM_transformation"
   ]
  },
  {
   "cell_type": "markdown",
   "metadata": {},
   "source": [
    "These objects store a BMS transformation by expressing it in terms of a supertranslation, rotation, and boost, with some specified order.\n",
    "\n",
    "They can be\n",
    "- reordered via `BMSTransformation.reorder()`,\n",
    "- composed via `BMSTransformation1 * BMSTransformation2`, \n",
    "- and even inverted via `BMSTransformation.inverse()`."
   ]
  },
  {
   "cell_type": "markdown",
   "metadata": {},
   "source": [
    "For more on how BMS transformations act on asymptotic data, see [https://arxiv.org/abs/1509.00862](arXiv:1509.00862)."
   ]
  },
  {
   "cell_type": "markdown",
   "metadata": {},
   "source": [
    "With this BMS transformation, we can transform our `ABD` object using the `ABD.transform` function. "
   ]
  },
  {
   "cell_type": "code",
   "execution_count": null,
   "metadata": {},
   "outputs": [],
   "source": [
    "abd_rest = abd.transform(\n",
    "    supertranslation=CoM_transformation.supertranslation,\n",
    "    frame_rotation=CoM_transformation.frame_rotation.components,\n",
    "    boost_velocity=CoM_transformation.boost_velocity\n",
    ")"
   ]
  },
  {
   "cell_type": "code",
   "execution_count": null,
   "metadata": {},
   "outputs": [],
   "source": [
    "G_rest = abd_rest.bondi_CoM_charge()"
   ]
  },
  {
   "cell_type": "code",
   "execution_count": null,
   "metadata": {},
   "outputs": [],
   "source": [
    "plt.plot(abd_rest.t, G_rest, label=['$G_{x}$','$G_{y}$','$G_{z}$'])\n",
    "plt.legend()\n",
    "plt.ylabel('center-of-mass charge')"
   ]
  },
  {
   "cell_type": "markdown",
   "metadata": {},
   "source": [
    "Much better! Did that fix the modes of our waveform?"
   ]
  },
  {
   "cell_type": "code",
   "execution_count": null,
   "metadata": {},
   "outputs": [],
   "source": [
    "plt.plot(\n",
    "    abd_rest.t,\n",
    "    abs(abd_rest.sigma.ndarray[:,sf.LM_index(2,-2,0):sf.LM_index(2,2,0) + 1]),\n",
    "    label=['$(2,-2)$','$(2,-1)$','$(2,0)$','$(2,+1)$','$(2,+2)$']\n",
    ")\n",
    "plt.legend()\n",
    "plt.xlabel('Time (M)')\n",
    "plt.ylabel('shear')"
   ]
  },
  {
   "cell_type": "markdown",
   "metadata": {},
   "source": [
    "Grr. Doesn't look like it."
   ]
  },
  {
   "cell_type": "markdown",
   "metadata": {},
   "source": [
    "Maybe there's something wrong with the supertranslation charge? (since the rotation charge is trivial for non-spinning systems)"
   ]
  },
  {
   "cell_type": "code",
   "execution_count": null,
   "metadata": {},
   "outputs": [],
   "source": [
    "Moreschi_supermomentum = abd_rest.supermomentum('Moreschi')"
   ]
  },
  {
   "cell_type": "code",
   "execution_count": null,
   "metadata": {},
   "outputs": [],
   "source": [
    "plt.plot(\n",
    "    abd_rest.t,\n",
    "    Moreschi_supermomentum.ndarray[:,sf.LM_index(2,-2,0):sf.LM_index(2,2,0)+1].real,\n",
    "    label=['$(2,-2)$','$(2,-1)$','$(2,0)$','$(2,+1)$','$(2,+2)$']\n",
    ")\n",
    "plt.legend()\n",
    "plt.xlabel('Time (M)')\n",
    "plt.ylabel('Moreschi supermomentum')"
   ]
  },
  {
   "cell_type": "markdown",
   "metadata": {},
   "source": [
    "Oh! Look at that! The $(2,\\pm2)$ modes of the Moreschi supermomentum seem to be some nonzero, constant value, which suggests that our early time spacetime won't asymptote to the usual superimposed Kerr metric, but rather a _supertranslated_ superimposed Kerr metric.\n",
    "\n",
    "Let's see if mapping them to zero fixes things. This will take ~3 minutes.\n",
    "\n",
    "This frame that we're mapping to is called the _superrest frame_."
   ]
  },
  {
   "cell_type": "code",
   "execution_count": null,
   "metadata": {},
   "outputs": [],
   "source": [
    "abd_superrest, superrest_BMS_transformation, _ = abd.map_to_superrest_frame(\n",
    "    t_0=t_0,\n",
    "    padding_time=padding_time\n",
    ")"
   ]
  },
  {
   "cell_type": "code",
   "execution_count": null,
   "metadata": {},
   "outputs": [],
   "source": [
    "Moreschi_supermomentum_superrest = abd_superrest.supermomentum('Moreschi')"
   ]
  },
  {
   "cell_type": "code",
   "execution_count": null,
   "metadata": {},
   "outputs": [],
   "source": [
    "plt.plot(\n",
    "    abd_superrest.t,\n",
    "    Moreschi_supermomentum_superrest.ndarray[:,sf.LM_index(2,-2,0):sf.LM_index(2,2,0)+1],\n",
    "    label=['$(2,-2)$','$(2,-1)$','$(2,0)$','$(2,+1)$','$(2,+2)$']\n",
    ")\n",
    "plt.legend()\n",
    "plt.xlabel('Time (M)')\n",
    "plt.ylabel('Moreschi supermomentum')"
   ]
  },
  {
   "cell_type": "markdown",
   "metadata": {},
   "source": [
    "Much better! But did this fix our problem?"
   ]
  },
  {
   "cell_type": "code",
   "execution_count": null,
   "metadata": {},
   "outputs": [],
   "source": [
    "plt.plot(\n",
    "    abd_superrest.t,\n",
    "    abs(abd_superrest.sigma.ndarray[:,sf.LM_index(2,-2,0):sf.LM_index(2,2,0) + 1]),\n",
    "    label=['$(2,-2)$','$(2,-1)$','$(2,0)$','$(2,+1)$','$(2,+2)$']\n",
    ")\n",
    "plt.legend()\n",
    "plt.xlabel('Time (M)')\n",
    "plt.ylabel('shear')"
   ]
  },
  {
   "cell_type": "markdown",
   "metadata": {},
   "source": [
    "Wonderful!"
   ]
  },
  {
   "cell_type": "markdown",
   "metadata": {},
   "source": [
    "Any ideas what the early time oscillations are?"
   ]
  },
  {
   "cell_type": "markdown",
   "metadata": {},
   "source": [
    "We can now proceed to study our waveforms as we please.\n",
    "\n",
    "If you want to look at the Weyl scalars, simply replace `sigma` by `psi0`, `psi1`, `psi2`, `psi3`, or `psi4`."
   ]
  },
  {
   "cell_type": "markdown",
   "metadata": {},
   "source": [
    "## BMS Charge Decomposition of a Gravitational Wave"
   ]
  },
  {
   "cell_type": "markdown",
   "metadata": {},
   "source": [
    "One nice way to study NR data, now that we have the Weyl scalars, is through the BMS charge decomposition of the shear:\n",
    "- $\\mathrm{Re}\\left[\\bar{\\eth}^{2}\\sigma\\right]=\\mathrm{Re}\\left[m+\\mathcal{E}+\\left(\\bar{\\eth}^{2}\\sigma - m\\right)|^{u_{0}}\\right]$\n",
    "- $\\mathrm{im}\\left[\\bar{\\eth}^{2}\\sigma\\right]=-\\frac{d}{du}\\left(\\eth\\bar{\\eth}\\right)^{-1}\\mathrm{Im}\\left[\\bar{\\eth}\\left(\\hat{N}+\\mathcal{J}\\right)\\right]$"
   ]
  },
  {
   "cell_type": "markdown",
   "metadata": {},
   "source": [
    "Let's compute these terms."
   ]
  },
  {
   "cell_type": "code",
   "execution_count": null,
   "metadata": {},
   "outputs": [],
   "source": [
    "re_eth_sq_sigma = abd_superrest.sigma.ethbar_GHP.ethbar_GHP.real\n",
    "mass_aspect = -(abd_superrest.psi2 + abd_superrest.sigma.multiply(abd_superrest.sigma.dot.bar, truncator=lambda tup: 8)).real\n",
    "energy_flux = abd_superrest.sigma.dot.multiply(abd_superrest.sigma.dot.bar, truncator=lambda tup: 8).int.real\n",
    "\n",
    "idx = np.argmin(abs(abd_superrest.t - t_0))\n",
    "energy_flux -= (energy_flux[idx] - (re_eth_sq_sigma[idx] - mass_aspect[idx]))"
   ]
  },
  {
   "cell_type": "code",
   "execution_count": null,
   "metadata": {},
   "outputs": [],
   "source": [
    "def apply_eth_ethbar_inverse(f):\n",
    "    s = f.spin_weight\n",
    "    for L in range(int(np.sqrt(f.ndarray.shape[1])) - 1 + 1):\n",
    "        for M in range(-L, L + 1):\n",
    "            if L < 2:\n",
    "                f.ndarray[:,sf.LM_index(L, M, 0)] *= 0\n",
    "            else:\n",
    "                f.ndarray[:,sf.LM_index(L, M, 0)] *= ((-1/np.sqrt(2)*np.sqrt((L + s)*(L - s + 1))) * (1/np.sqrt(2)*np.sqrt((L - (s - 1))*(L + (s - 1) + 1))))**(-1)\n",
    "            \n",
    "    return f                                                                             "
   ]
  },
  {
   "cell_type": "code",
   "execution_count": null,
   "metadata": {},
   "outputs": [],
   "source": [
    "im_eth_sq_sigma = -abd_superrest.sigma.ethbar_GHP.ethbar_GHP.imag\n",
    "Lorentz_aspect = apply_eth_ethbar_inverse(-(abd_superrest.psi1 + abd_superrest.sigma.multiply(abd_superrest.sigma.bar.eth_GHP, truncator=lambda tup: 8)).dot.ethbar_GHP).imag\n",
    "Lorentz_flux = apply_eth_ethbar_inverse(0.5*(3*abd_superrest.sigma.dot.multiply(abd_superrest.sigma.bar.eth_GHP, truncator=lambda tup: 8) - 3*abd_superrest.sigma.multiply(abd_superrest.sigma.dot.bar.eth_GHP, truncator=lambda tup: 8) + abd_superrest.sigma.bar.multiply(abd_superrest.sigma.dot.eth_GHP, truncator=lambda tup: 8) - abd_superrest.sigma.dot.bar.multiply(abd_superrest.sigma.eth_GHP, truncator=lambda tup: 8)).ethbar_GHP).imag"
   ]
  },
  {
   "cell_type": "markdown",
   "metadata": {},
   "source": [
    "If we plot some of the more interesting modes, we find"
   ]
  },
  {
   "cell_type": "code",
   "execution_count": null,
   "metadata": {},
   "outputs": [],
   "source": [
    "fig, axis = plt.subplots(2, 2, sharex=True)\n",
    "plt.subplots_adjust(hspace=0.08, wspace=0.08)\n",
    "fig.align_ylabels()\n",
    "\n",
    "idx1 = np.argmin(abs(abd_superrest.t - 5800))\n",
    "idx2 = np.argmin(abs(abd_superrest.t - 6080))\n",
    "\n",
    "mode = (2,2)\n",
    "axis[0][0].plot(abd_superrest.t[idx1:idx2], re_eth_sq_sigma[idx1:idx2,sf.LM_index(mode[0], mode[1], 0)], label='$\\sigma$')\n",
    "axis[0][0].plot(abd_superrest.t[idx1:idx2], mass_aspect[idx1:idx2,sf.LM_index(mode[0], mode[1], 0)], ls='--', label='$m$')\n",
    "axis[0][0].plot(abd_superrest.t[idx1:idx2], energy_flux[idx1:idx2,sf.LM_index(mode[0], mode[1], 0)], ls='dotted', label='$\\mathcal{E}$')\n",
    "\n",
    "mode = (2,0)\n",
    "axis[1][0].plot(abd_superrest.t[idx1:idx2], re_eth_sq_sigma[idx1:idx2,sf.LM_index(mode[0], mode[1], 0)], label='$\\sigma$')\n",
    "axis[1][0].plot(abd_superrest.t[idx1:idx2], mass_aspect[idx1:idx2,sf.LM_index(mode[0], mode[1], 0)], ls='--', label='$m$')\n",
    "axis[1][0].plot(abd_superrest.t[idx1:idx2], energy_flux[idx1:idx2,sf.LM_index(mode[0], mode[1], 0)], ls='dotted', label='$\\mathcal{E}$')\n",
    "\n",
    "mode = (3,2)\n",
    "axis[0][1].plot(abd_superrest.t[idx1:idx2], im_eth_sq_sigma[idx1:idx2,sf.LM_index(mode[0], mode[1], 0)], label='$\\sigma$')\n",
    "axis[0][1].plot(abd_superrest.t[idx1:idx2], Lorentz_aspect[idx1:idx2,sf.LM_index(mode[0], mode[1], 0)], ls='--', label='$\\hat{N}$')\n",
    "axis[0][1].plot(abd_superrest.t[idx1:idx2], Lorentz_flux[idx1:idx2,sf.LM_index(mode[0], mode[1], 0)], label='$\\mathcal{J}$')\n",
    "\n",
    "mode = (3,0)\n",
    "axis[1][1].plot(abd_superrest.t[idx1:idx2], im_eth_sq_sigma[idx1:idx2,sf.LM_index(mode[0], mode[1], 0)], label='$\\sigma$')\n",
    "axis[1][1].plot(abd_superrest.t[idx1:idx2], Lorentz_aspect[idx1:idx2,sf.LM_index(mode[0], mode[1], 0)], ls='--', label='$\\hat{N}$')\n",
    "axis[1][1].plot(abd_superrest.t[idx1:idx2], Lorentz_flux[idx1:idx2,sf.LM_index(mode[0], mode[1], 0)], label='$\\mathcal{J}$')\n",
    "\n",
    "axis[0][0].legend(loc='upper left')\n",
    "axis[0][1].legend(loc='upper left')\n",
    "axis[1][0].legend(loc='upper left')\n",
    "axis[1][1].legend(loc='upper left')\n",
    "\n",
    "axis[0][1].yaxis.set_label_position(\"right\")\n",
    "axis[0][1].yaxis.tick_right()\n",
    "\n",
    "axis[1][1].yaxis.set_label_position(\"right\")\n",
    "axis[1][1].yaxis.tick_right()\n",
    "\n",
    "axis[1][0].set_xlabel('Time (M)')\n",
    "axis[1][1].set_xlabel('Time (M)')\n",
    "\n",
    "axis[0][0].set_ylabel(r'Re of $(2,2)$ mode')\n",
    "axis[0][1].set_ylabel(r'Re of $(3,2)$ mode', rotation=270, labelpad=14)\n",
    "axis[1][0].set_ylabel(r'Re of $(2,0)$ mode')\n",
    "axis[1][1].set_ylabel(r'Im of $(3,0)$ mode', rotation=270, labelpad=14)"
   ]
  },
  {
   "cell_type": "markdown",
   "metadata": {},
   "source": [
    "Wow! Look at that!\n",
    "- For the $(2,2)$ mode the strain is entirely sourced by the mass aspect; this is just the mass quadrupole formula!\n",
    "- For the $(2,0)$ mode the energy flux sources the memory contribution to the strain and the mass aspect captures ringdown excitations;\n",
    "- For the $(3,2)$ mode the strain is entirely sourced by the Lorenz aspect; this is the lesser known current multipole formula;\n",
    "- For the $(3,0)$ mode the Lorentz flux sources the \"bump\" contribution to the strain; this is the spin memory effect!"
   ]
  },
  {
   "cell_type": "markdown",
   "metadata": {},
   "source": [
    "## Working with Ringdown Data"
   ]
  },
  {
   "cell_type": "markdown",
   "metadata": {},
   "source": [
    "Finally, let's imagine we wanted to study the ringdown phase of our BBH merger to, say, work towards performing a test of GR with the remnant black hole.\n",
    "\n",
    "To study the ringdown, we want our remnant black hole to asymptote to the Kerr metric.\n",
    "\n",
    "But look! Our remnant doesn't asymptote to the Kerr metric because the supermomentum is nontrivial!"
   ]
  },
  {
   "cell_type": "code",
   "execution_count": null,
   "metadata": {},
   "outputs": [],
   "source": [
    "plt.plot(\n",
    "    abd_superrest.t,\n",
    "    Moreschi_supermomentum_superrest.ndarray[:,sf.LM_index(2,-2,0):sf.LM_index(2,2,0)+1],\n",
    "    label=['$(2,-2)$','$(2,-1)$','$(2,0)$','$(2,+1)$','$(2,+2)$']\n",
    ")\n",
    "plt.xlim(5000)\n",
    "plt.legend()\n",
    "plt.xlabel('Time (M)')\n",
    "plt.ylabel('Moreschi supermomentum')"
   ]
  },
  {
   "cell_type": "markdown",
   "metadata": {},
   "source": [
    "At late times, our remnant is _supertranslated_ Kerr, with a large supertranslation in the $(2,0)$ mode due to the memory sourced by the merger.\n",
    "\n",
    "Let's fix this."
   ]
  },
  {
   "cell_type": "code",
   "execution_count": null,
   "metadata": {},
   "outputs": [],
   "source": [
    "t_0 = 6400\n",
    "padding_time = 50\n",
    "\n",
    "abd_remnant_superrest, remnant_superrest_BMS_transformation, _ = abd.map_to_superrest_frame(\n",
    "    t_0=t_0,\n",
    "    padding_time=padding_time\n",
    ")"
   ]
  },
  {
   "cell_type": "code",
   "execution_count": null,
   "metadata": {},
   "outputs": [],
   "source": [
    "Moreschi_supermomentum_remnant_superrest = abd_remnant_superrest.supermomentum('Moreschi')"
   ]
  },
  {
   "cell_type": "code",
   "execution_count": null,
   "metadata": {},
   "outputs": [],
   "source": [
    "plt.plot(\n",
    "    abd_remnant_superrest.t,\n",
    "    Moreschi_supermomentum_remnant_superrest.ndarray[:,sf.LM_index(2,-2,0):sf.LM_index(2,2,0)+1],\n",
    "    label=['$(2,-2)$','$(2,-1)$','$(2,0)$','$(2,+1)$','$(2,+2)$']\n",
    ")\n",
    "plt.xlim(5000)\n",
    "plt.legend()\n",
    "plt.xlabel('Time (M)')\n",
    "plt.ylabel('Moreschi supermomentum')"
   ]
  },
  {
   "cell_type": "markdown",
   "metadata": {},
   "source": [
    "Much better!"
   ]
  },
  {
   "cell_type": "markdown",
   "metadata": {},
   "source": [
    "And finally, one might want to know what the mass and spin of our remnant black hole are.\n",
    "\n",
    "To obtain these, we can just use the BMS charges! (see [https://arxiv.org/abs/2104.07052](arXiv:2104.07052))"
   ]
  },
  {
   "cell_type": "code",
   "execution_count": null,
   "metadata": {},
   "outputs": [],
   "source": [
    "remnant_mass = abd_remnant_superrest.bondi_rest_mass()[-1]\n",
    "remnant_spin = abd_remnant_superrest.bondi_dimensionless_spin()[-1]\n",
    "print(f'Mass: {remnant_mass}')\n",
    "print(f'Dimensionless spin: {remnant_spin}')"
   ]
  },
  {
   "cell_type": "markdown",
   "metadata": {},
   "source": [
    "Cool! With this information, we have everything that we need to fit black hole perturbation theory excitations, like quasi-normal modes (QNMs), to the ringdown phase of the waveforms emitted by our system!"
   ]
  },
  {
   "cell_type": "markdown",
   "metadata": {},
   "source": [
    "## Mapping to the PN BMS frame"
   ]
  },
  {
   "cell_type": "markdown",
   "metadata": {},
   "source": [
    "Apart from mapping to a BMS frame that is ideal for studying the ringdown phase of our system, we can also map to a BMS frame to compare with waveform models, like post-Newtonian waveforms! For this there are two options:\n",
    "- Optimize over the BMS transformation to minimize the residual between the two waveforms\n",
    "- Find the transformation that maps one set of charges to the other\n",
    "\n",
    "These options were explored in [https://arxiv.org/abs/2105.02300](arXiv:2105.02300) and [https://arxiv.org/abs/2208.04356](arXiv:2208.04356). Naturally, the 2nd is much faster! But to do so requires that we have _target_ charges. So let's load some PN waveforms!"
   ]
  },
  {
   "cell_type": "markdown",
   "metadata": {},
   "source": [
    "This is the strain"
   ]
  },
  {
   "cell_type": "code",
   "execution_count": null,
   "metadata": {},
   "outputs": [],
   "source": [
    "h_PN = scri.SpEC.file_io.read_from_h5('/oscar/data/icerm/knelli/workshop_materials/03_wednesday/cce/rhOverM_PN_T4.h5')"
   ]
  },
  {
   "cell_type": "markdown",
   "metadata": {},
   "source": [
    "and this is the Moreschi supermomentum"
   ]
  },
  {
   "cell_type": "code",
   "execution_count": null,
   "metadata": {},
   "outputs": [],
   "source": [
    "PsiM_PN = scri.SpEC.file_io.read_from_h5('/oscar/data/icerm/knelli/workshop_materials/03_wednesday/cce/supermomentum_Moreschi_PN_T4.h5')"
   ]
  },
  {
   "cell_type": "markdown",
   "metadata": {},
   "source": [
    "As you may expect, the agreement between PN and NR out of the box isn't so nice..."
   ]
  },
  {
   "cell_type": "code",
   "execution_count": null,
   "metadata": {},
   "outputs": [],
   "source": [
    "fig, axis = plt.subplots(2, 1, sharex=True)\n",
    "plt.subplots_adjust(hspace=0.05)\n",
    "\n",
    "axis[0].plot(abd.t, 2.0*abd.sigma.bar.ndarray[:,sf.LM_index(2,2,0)], label='NR')\n",
    "axis[0].plot(h_PN.t, h_PN.data[:,sf.LM_index(2,2,h_PN.ell_min)], ls='--', label='PN')\n",
    "\n",
    "axis[1].plot(abd.t, 2.0*abd.sigma.bar.ndarray[:,sf.LM_index(2,0,0)], label='NR')\n",
    "axis[1].plot(h_PN.t, h_PN.data[:,sf.LM_index(2,0,h_PN.ell_min)], ls='--', label='PN')\n",
    "\n",
    "axis[1].set_xlabel('Time (M)')\n",
    "axis[0].set_ylabel('strain (2,2) mode')\n",
    "axis[1].set_ylabel('strain (2,0) mode')\n",
    "axis[0].legend()\n",
    "axis[1].legend()"
   ]
  },
  {
   "cell_type": "markdown",
   "metadata": {},
   "source": [
    "But this is simply because we need to map NR to the frame of the PN! So let's fix some frame freedoms."
   ]
  },
  {
   "cell_type": "markdown",
   "metadata": {},
   "source": [
    "We'll fix the rotation freedom with the angular velocity vector (see [https://arxiv.org/abs/1302.2919](arXiv:1302.2919) for more details) and the center-of-mass freedom by mapping the center-of-mass charge to zero. The supertranslation freedom will be fixed by the PN Moreschi supermomentum (see [https://arxiv.org/abs/2208.04356](arXiv:2208.04356) for how we compute this)."
   ]
  },
  {
   "cell_type": "markdown",
   "metadata": {},
   "source": [
    "This can again be performed using the `map_to_superrest_function`, but now with the following options set:\n",
    "- `target_strain_input`: the target PN strain\n",
    "- `target_PsiM_input`: the target PN Moreschi supermomentum"
   ]
  },
  {
   "cell_type": "code",
   "execution_count": null,
   "metadata": {},
   "outputs": [],
   "source": [
    "abd_PN_BMS, PN_BMS_transformation, _ = abd.map_to_superrest_frame(\n",
    "    t_0=2000,\n",
    "    padding_time=250,\n",
    "    target_strain_input=h_PN,\n",
    "    target_PsiM_input=PsiM_PN\n",
    ")"
   ]
  },
  {
   "cell_type": "markdown",
   "metadata": {},
   "source": [
    "How'd we do?"
   ]
  },
  {
   "cell_type": "code",
   "execution_count": null,
   "metadata": {},
   "outputs": [],
   "source": [
    "fig, axis = plt.subplots(2, 1, sharex=True)\n",
    "plt.subplots_adjust(hspace=0.05)\n",
    "\n",
    "axis[0].plot(abd_PN_BMS.t, 2.0*abd_PN_BMS.sigma.bar.ndarray[:,sf.LM_index(2,2,0)], label='NR')\n",
    "axis[0].plot(h_PN.t, h_PN.data[:,sf.LM_index(2,2,h_PN.ell_min)], ls='--', label='PN')\n",
    "\n",
    "axis[1].plot(abd_PN_BMS.t, 2.0*abd_PN_BMS.sigma.bar.ndarray[:,sf.LM_index(2,0,0)], label='NR')\n",
    "axis[1].plot(h_PN.t, h_PN.data[:,sf.LM_index(2,0,h_PN.ell_min)], ls='--', label='PN')\n",
    "\n",
    "axis[1].set_xlabel('Time (M)')\n",
    "axis[0].set_ylabel('strain (2,2) mode')\n",
    "axis[1].set_ylabel('strain (2,0) mode')\n",
    "axis[0].legend()\n",
    "axis[1].legend()\n",
    "\n",
    "axis[0].axvline(2000 - 250)\n",
    "axis[0].axvline(2000 + 250)\n",
    "\n",
    "axis[1].axvline(2000 - 250)\n",
    "axis[1].axvline(2000 + 250)"
   ]
  },
  {
   "cell_type": "markdown",
   "metadata": {},
   "source": [
    "Not bad! Thanks BMS!"
   ]
  },
  {
   "cell_type": "markdown",
   "metadata": {},
   "source": [
    "## Mapping to the BMS frame of another ABD object"
   ]
  },
  {
   "cell_type": "markdown",
   "metadata": {},
   "source": [
    "Finally, one can also map to the BMS frame of another ABD object by again finding the BMS transformation that maps the BMS charges of one system to the other. This is important for, e.g., performing convergence tests (since different Levs will likely be output in different BMS frames!). To do this, we use the `map_to_abd_frame` function."
   ]
  },
  {
   "cell_type": "markdown",
   "metadata": {},
   "source": [
    "But, because we don't have a different Lev right now, we'll just map our abd to some arbitrary BMS frame using the PN BMS transformation and see if we can recover using this function."
   ]
  },
  {
   "cell_type": "code",
   "execution_count": null,
   "metadata": {},
   "outputs": [],
   "source": [
    "abd_sparser = abd.interpolate(np.arange(abd.t[0], abd.t[-1] + 5, 5))"
   ]
  },
  {
   "cell_type": "code",
   "execution_count": null,
   "metadata": {},
   "outputs": [],
   "source": [
    "abd_random_frame = abd_sparser.transform(\n",
    "    supertranslation=PN_BMS_transformation.supertranslation,\n",
    "    frame_rotation=PN_BMS_transformation.frame_rotation.components,\n",
    "    boost_velocity=PN_BMS_transformation.boost_velocity\n",
    ")"
   ]
  },
  {
   "cell_type": "code",
   "execution_count": null,
   "metadata": {},
   "outputs": [],
   "source": [
    "fig, axis = plt.subplots(2, 1, sharex=True)\n",
    "plt.subplots_adjust(hspace=0.05)\n",
    "\n",
    "axis[0].plot(abd_sparser.t, 2.0*abd_sparser.sigma.bar.ndarray[:,sf.LM_index(2,2,0)], label='NR')\n",
    "axis[0].plot(abd_random_frame.t, 2.0*abd_random_frame.sigma.bar.ndarray[:,sf.LM_index(2,2,0)], ls='--', label='NR (random frame)')\n",
    "\n",
    "axis[1].plot(abd_sparser.t, 2.0*abd_sparser.sigma.bar.ndarray[:,sf.LM_index(2,0,0)], label='NR')\n",
    "axis[1].plot(abd_random_frame.t, 2.0*abd_random_frame.sigma.bar.ndarray[:,sf.LM_index(2,0,0)], ls='--', label='NR (random frame)')\n",
    "\n",
    "axis[1].set_xlabel('Time (M)')\n",
    "axis[0].set_ylabel('strain (2,2) mode')\n",
    "axis[1].set_ylabel('strain (2,0) mode')\n",
    "axis[0].legend()\n",
    "axis[1].legend()\n",
    "\n",
    "axis[0].axvline(2000 - 250)\n",
    "axis[0].axvline(2000 + 250)\n",
    "\n",
    "axis[1].axvline(2000 - 250)\n",
    "axis[1].axvline(2000 + 250)"
   ]
  },
  {
   "cell_type": "markdown",
   "metadata": {},
   "source": [
    "Clearly they're in different frames! Let's try to fix this. (This will take a bit longer...)"
   ]
  },
  {
   "cell_type": "code",
   "execution_count": null,
   "metadata": {},
   "outputs": [],
   "source": [
    "abd_to_random_frame, BMS_transformation_to_random_frame, _ = abd_sparser.map_to_abd_frame(\n",
    "    abd_random_frame,\n",
    "    t_0=2500,\n",
    "    padding_time=500,\n",
    "    N_itr_maxes={\"abd\": 2, \"superrest\": 1, \"CoM_transformation\": 10, \"rotation\": 10, \"supertranslation\": 10},\n",
    ")"
   ]
  },
  {
   "cell_type": "code",
   "execution_count": null,
   "metadata": {},
   "outputs": [],
   "source": [
    "fig, axis = plt.subplots(2, 1, sharex=True)\n",
    "plt.subplots_adjust(hspace=0.05)\n",
    "\n",
    "axis[0].plot(abd_to_random_frame.t, 2.0*abd_to_random_frame.sigma.bar.ndarray[:,sf.LM_index(2,2,0)], label='NR (to random frame)')\n",
    "axis[0].plot(abd_random_frame.t, 2.0*abd_random_frame.sigma.bar.ndarray[:,sf.LM_index(2,2,0)], ls='--', label='NR (random frame)')\n",
    "\n",
    "axis[1].plot(abd_to_random_frame.t, 2.0*abd_to_random_frame.sigma.bar.ndarray[:,sf.LM_index(2,0,0)], label='NR (to random frame)')\n",
    "axis[1].plot(abd_random_frame.t, 2.0*abd_random_frame.sigma.bar.ndarray[:,sf.LM_index(2,0,0)], ls='--', label='NR (random frame)')\n",
    "\n",
    "axis[1].set_xlabel('Time (M)')\n",
    "axis[0].set_ylabel('strain (2,2) mode')\n",
    "axis[1].set_ylabel('strain (2,0) mode')\n",
    "axis[0].legend()\n",
    "axis[1].legend()\n",
    "\n",
    "axis[0].axvline(2000 - 250)\n",
    "axis[0].axvline(2000 + 250)\n",
    "\n",
    "axis[1].axvline(2000 - 250)\n",
    "axis[1].axvline(2000 + 250)"
   ]
  },
  {
   "cell_type": "markdown",
   "metadata": {},
   "source": [
    "Much better!"
   ]
  },
  {
   "cell_type": "markdown",
   "metadata": {},
   "source": [
    "And, for the cherry on top, if we compose the BMS transformations, do we obtain the identity transformation?"
   ]
  },
  {
   "cell_type": "code",
   "execution_count": null,
   "metadata": {},
   "outputs": [],
   "source": [
    "BMS_transformation_to_random_frame"
   ]
  },
  {
   "cell_type": "code",
   "execution_count": null,
   "metadata": {},
   "outputs": [],
   "source": [
    "BMS_transformation_to_random_frame * PN_BMS_transformation.inverse()"
   ]
  },
  {
   "cell_type": "markdown",
   "metadata": {},
   "source": [
    "Indeed! (or at least pretty close!) Isn't GR amazing???"
   ]
  },
  {
   "cell_type": "code",
   "execution_count": null,
   "metadata": {},
   "outputs": [],
   "source": []
  }
 ],
 "metadata": {
  "kernelspec": {
   "display_name": "Python 3 (ipykernel)",
   "language": "python",
   "name": "python3"
  },
  "language_info": {
   "codemirror_mode": {
    "name": "ipython",
    "version": 3
   },
   "file_extension": ".py",
   "mimetype": "text/x-python",
   "name": "python",
   "nbconvert_exporter": "python",
   "pygments_lexer": "ipython3",
   "version": "3.9.12"
  }
 },
 "nbformat": 4,
 "nbformat_minor": 4
}
