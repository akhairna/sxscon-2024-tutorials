{
 "cells": [
  {
   "cell_type": "code",
   "execution_count": null,
   "metadata": {},
   "outputs": [],
   "source": [
    "import spectre\n",
    "import spectre.IO.H5 as spectre_h5\n",
    "import numpy as np\n",
    "from spectre.Visualization.ReadH5 import to_dataframe\n",
    "from spectre.Visualization.PlotCce import plot_cce\n",
    "import matplotlib.pyplot as plt\n",
    "from pathlib import Path"
   ]
  },
  {
   "cell_type": "markdown",
   "metadata": {},
   "source": [
    "# Cauchy-Characteristic Extraction\n",
    "\n",
    "Here we will go over how to obtain, run, and look at output from SpECTRE's CCE module.\n",
    "\n",
    "Most of the information in this tutorial can also be found on our [Running CCE tutorial](https://spectre-code.org/tutorial_cce.html).\n",
    "\n",
    "## Obtaining CCE\n",
    " By far the easiest way to obtain the CCE module, is by downloading the pre-built binary from the latest [SpECTRE Release](https://github.com/sxs-collaboration/spectre/releases).\n",
    "\n"
   ]
  },
  {
   "cell_type": "code",
   "execution_count": null,
   "metadata": {
    "scrolled": true,
    "vscode": {
     "languageId": "shellscript"
    }
   },
   "outputs": [],
   "source": [
    "%%bash\n",
    "rm -rf CceExecutables*\n",
    "# TODO: Update link\n",
    "wget https://github.com/sxs-collaboration/spectre/releases/download/v2024.06.05/CceExecutables.tar.xz\n",
    "tar -xf CceExecutables.tar.xz"
   ]
  },
  {
   "cell_type": "markdown",
   "metadata": {},
   "source": [
    "This tarball provides:\n",
    "\n",
    "- the CCE executable `CharacteristicExtract`\n",
    "- example worldtube data\n",
    "- example input file\n",
    "- example output from CCE\n",
    "- worldtube data format converter\n",
    "- python script to check example data\n",
    "\n",
    "Before we do anything else, let's make sure the executable runs correctly and that we get the expected output. This should run for only a couple minutes."
   ]
  },
  {
   "cell_type": "code",
   "execution_count": null,
   "metadata": {
    "vscode": {
     "languageId": "shellscript"
    }
   },
   "outputs": [],
   "source": [
    "%%bash\n",
    "cd CceExecutables/\n",
    "rm -f CharacteristicExtractReduction.h5\n",
    "./CharacteristicExtract --input-file CharacteristicExtract.yaml\n",
    "python CheckCceOutput.py"
   ]
  },
  {
   "cell_type": "markdown",
   "metadata": {},
   "source": [
    "### SUCCESS: The CCE output is as expected! Yay!\n",
    "\n",
    "If you get this message, awesome! That means the executable works correctly.\n",
    "\n",
    "## The input file\n",
    "\n",
    "Now let's take a look the input file that we just used and go over the settings that were used. This input file can be used right away to produce production-level CCE waveforms. All you need to change is the path to the worldtube data.\n",
    "\n",
    "Open the `CceExecutables/CharacteristicExtract.yaml` file in a new tab to get some nice syntax highligting and we'll go over the options (i.e. which ones are important to change for every run and which you should probably leave alone)\n",
    "\n",
    "## The worldtube data\n",
    "\n",
    "Now let's take a look at what's required in the worldtube data, and how we expect it to be formatted. First there is an \"alphabet soup\" of Bondi variables that must be in the H5 file. All these variables must be in the spectre H5::Dat format."
   ]
  },
  {
   "cell_type": "code",
   "execution_count": null,
   "metadata": {},
   "outputs": [],
   "source": [
    "%%bash\n",
    "cd CceExecutables/\n",
    "h5ls -r BondiSachsCceR0200.h5"
   ]
  },
  {
   "cell_type": "markdown",
   "metadata": {},
   "source": [
    "TODO: Do we put equations here to explain what these variables mean? Maybe Keefe is already going to do this?"
   ]
  },
  {
   "cell_type": "code",
   "execution_count": null,
   "metadata": {},
   "outputs": [],
   "source": [
    "worldtube_data = spectre_h5.H5File(\"CceExecutables/BondiSachsCceR0200.h5\", \"r\")\n",
    "bondi_J_dat_file = worldtube_data.get_dat(\"J\")\n",
    "print(f\"Dimensions: {bondi_J_dat_file.get_dimensions()}\")\n",
    "print(f\"Version: {bondi_J_dat_file.get_version()}\")\n",
    "print(f\"Header:\\n{bondi_J_dat_file.get_header()}\")\n",
    "\n",
    "# The legend is a bit too big to print, but we can calculate l_max from the size\n",
    "legend = bondi_J_dat_file.get_legend()\n",
    "print(legend[1])\n",
    "l_max = int(np.sqrt((bondi_J_dat_file.get_dimensions()[1] - 1) / 2) - 1)\n",
    "print(f\"L max: {l_max}\")"
   ]
  },
  {
   "cell_type": "code",
   "execution_count": null,
   "metadata": {},
   "outputs": [],
   "source": [
    "# Make the dat file into a Pandas DataFrame for easy manipulation\n",
    "bondi_J_df = to_dataframe(bondi_J_dat_file)\n",
    "\n",
    "coef_to_plot = \"Re(2,2)\"\n",
    "\n",
    "\n",
    "plt.plot(bondi_J_df[\"Time\"], bondi_J_df[coef_to_plot])\n",
    "plt.xlabel(\"Time (M)\")\n",
    "plt.title(f\"Bondi J {coef_to_plot}\")"
   ]
  },
  {
   "cell_type": "markdown",
   "metadata": {},
   "source": [
    "So this example data isn't that long. It's only to test out that the executable works.\n",
    "\n",
    "## Real Worldtube Data\n",
    "\n",
    "Let's take a look at some real worltube data for a BBH simulation run with SpECTRE."
   ]
  },
  {
   "cell_type": "code",
   "execution_count": null,
   "metadata": {},
   "outputs": [],
   "source": [
    "cce_data_dir = Path(\"/oscar/data/icerm/knelli/workshop_materials/03_wednesday/cce\")\n",
    "worldtube_r150_file = cce_data_dir / \"BondiSachsCceR0150.h5\"\n",
    "worldtube_data = spectre_h5.H5File(worldtube_r150_file, \"r\")\n",
    "\n",
    "# Now it's your turn!\n",
    "# - Open one of the bondi variable dat files from the H5 file\n",
    "# - Convert it to a pandas DataFrame\n",
    "# - Choose a coefficient and plot it!"
   ]
  },
  {
   "cell_type": "markdown",
   "metadata": {},
   "source": [
    "## Running CCE\n",
    "\n",
    "First, let's edit the input file in the `CceExecutables` directory to point to the full worltube data. This would be the `BoundaryDataFilename` option. Change it to now point towards `/oscar/data/icerm/knelli/workshop_materials/03_wednesday/cce/BondiSachsCceR0150.h5`\n",
    "\n",
    "Then, in the `03_Wednesday` directory there is a submit script for you to edit. The only thing you should have to add is the actual command that runs the executable.\n",
    "\n",
    "> Hint: To specify the input file to run with, add `--input-file NameOfInputFile.yaml` when you run the executable\n",
    "\n",
    "Once you've done this, submit your job!"
   ]
  },
  {
   "cell_type": "code",
   "execution_count": null,
   "metadata": {},
   "outputs": [],
   "source": [
    "%%bash\n",
    "sbatch SubmitCCE.sh"
   ]
  },
  {
   "cell_type": "markdown",
   "metadata": {},
   "source": [
    "This run will take several hours to finish, so you'll have to wait a bit to get your own data.\n",
    "\n",
    "But don't worry! We've already run CCE for you so have a chance to look at the output data.\n",
    "\n",
    "## Real CCE output data\n",
    "\n",
    "The CCE output data is located at `/oscar/data/icerm/knelli/workshop_materials/03_wednesday/cce/CharacteristicExtractReduction.h5`.\n",
    "\n",
    "Our spectre H5 python bindings know how to read the CCE output data"
   ]
  },
  {
   "cell_type": "code",
   "execution_count": null,
   "metadata": {},
   "outputs": [],
   "source": [
    "cce_output_file_name = cce_data_dir / \"CharacteristicExtractReduction.h5\"\n",
    "cce_output_file = spectre_h5.H5File(cce_output_file_name, \"r\")\n",
    "# The subfile name always has the extraction radius in it\n",
    "cce_output = cce_output_file.get_cce(\"SpectreR0150\", 20)\n",
    "\n",
    "print(f\"Dimensions: {cce_output.get_dimensions()}\")\n",
    "print(f\"Version: {cce_output.get_version()}\")\n",
    "print(f\"Header:\\n{cce_output.get_header()}\")\n",
    "legend = cce_output.get_legend()\n",
    "print(f\"Legend size: {legend.size()}\")"
   ]
  },
  {
   "cell_type": "markdown",
   "metadata": {},
   "source": [
    "Rather than getting all the data yourself to plot, the spectre CLI and PyBindings provide a function that will give you a rough plot of all the interesting quantities in the CCE output. This includes\n",
    "\n",
    "- Strain\n",
    "- News\n",
    "- All Weyl scalars\n",
    "\n",
    "On the command line you'd run\n",
    "\n",
    "```sh\n",
    "spectre plot cce -h\n",
    "```\n",
    "\n",
    "but since we're in a notebook, we can just call the function directly. This won't give you paper-quality plots, but it can be extremely useful to get a quick glimpse of what is happening with your output.\n",
    "\n",
    "Pick your favorite modes to plot! Which ones from the previous session seem like they'd be interesting?"
   ]
  },
  {
   "cell_type": "code",
   "execution_count": null,
   "metadata": {},
   "outputs": [],
   "source": [
    "# Modes must be in the format: \"Real Y_l,m\" or \"Imag Y_l,m\"\n",
    "modes = []\n",
    "fig = plot_cce(cce_output_file_name, modes)\n",
    "plt.show()"
   ]
  }
 ],
 "metadata": {
  "kernelspec": {
   "display_name": "Python 3 (ipykernel)",
   "language": "python",
   "name": "python3"
  },
  "language_info": {
   "codemirror_mode": {
    "name": "ipython",
    "version": 3
   },
   "file_extension": ".py",
   "mimetype": "text/x-python",
   "name": "python",
   "nbconvert_exporter": "python",
   "pygments_lexer": "ipython3",
   "version": "3.10.12"
  }
 },
 "nbformat": 4,
 "nbformat_minor": 4
}
