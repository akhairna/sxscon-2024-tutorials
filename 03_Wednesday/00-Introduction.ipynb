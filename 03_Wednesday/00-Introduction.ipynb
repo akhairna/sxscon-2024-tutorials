{
 "cells": [
  {
   "cell_type": "markdown",
   "metadata": {},
   "source": [
    "# Introduction\n",
    "\n",
    "This series of notebooks describes the `sxs` python package, which provides an interface to the data produced by the Simulating eXtreme Spacetimes collaboration.  All that data is hosted on [Zenodo](https://zenodo.org/communities/sxs) and [CaltechDATA](https://data.caltech.edu/).  Each simulation gets its own DOI and its own web page — like [this one](https://doi.org/10.5281/zenodo.1213436), for example.  But you want an easier way to get the data than clicking on links.  This package will do that for you.\n",
    "\n",
    "The documentation is [here](https://sxs.readthedocs.io/en/main/).  The github page is [here](https://github.com/sxs-collaboration/sxs/).  Please feel free to open issues to report problems, or pull requests to fix them."
   ]
  },
  {
   "cell_type": "markdown",
   "metadata": {},
   "source": [
    "# Pythonic Preliminaries\n",
    "\n",
    "* ***Don't*** use your system python.  Installing packages to it might screw up how your OS works.\n",
    "* ***Don't*** use `sudo` when doing anything involving python.\n",
    "* ***Do*** use an environment manager:\n",
    "  * [Anaconda](https://www.anaconda.com/products/individual) is best for scientific python\n",
    "  * [Virtualenv](https://virtualenv.pypa.io/en/latest/) is slightly simpler, but much less capable\n",
    "  * [Pip](https://pip.pypa.io/en/stable/) is a useful tool, but is not an environment manager; don't rely on it alone\n",
    "  * Pipenv is only suitable for web development, not scientific python; don't use this at all\n",
    "\n",
    "The `sxs` package requires python 3.8 or greater, and a bunch of other packages that should be automatically installed along with it.\n",
    "\n",
    "The simplest way to install this package is to install anaconda (from the link above) and then install `sxs` like this:\n",
    "\n",
    "```python\n",
    "conda install -c conda-forge sxs\n",
    "```\n",
    "\n",
    "But if you have your own environment set up in some other way you could also do\n",
    "\n",
    "```python\n",
    "python -m pip install sxs\n",
    "```\n",
    "\n",
    "If you want a more complete set of tools, you could also do something like\n",
    "\n",
    "```python\n",
    "conda install -c conda-forge sxs-ecosystem\n",
    "```\n",
    "\n",
    "or\n",
    "\n",
    "```python\n",
    "python -m pip install sxs[ecosystem]\n",
    "```\n",
    "\n",
    "This installs nice goodies like [Matplotlib](https://matplotlib.org/) for plotting and [Jupyter](https://jupyter.org/) for running interactive notebooks like this one yourself.  On non-Windows systems, this also installs some other useful packages from the SXS collaboration, like [`scri`](https://github.com/moble/scri)."
   ]
  },
  {
   "cell_type": "markdown",
   "metadata": {},
   "source": [
    "# Configuration and caching preliminaries\n",
    "\n",
    "By default, downloading data is turned off, which means you will be responsible for obtaining the data yourself.  However, an easier option is to let `sxs` download the data for you.\n",
    "\n",
    "Of course, downloading data files every time you load them will use a lot of bandwidth.  You'll probably want to set up automatic caching of files to disk.\n",
    "\n",
    "And finally you may want to automatically get the newest simulation for a given set of physical parameters whenever possible.\n",
    "\n",
    "The `sxs` package can be configured to do all of these things for you.  To start with, this package will try to store configuration settings somewhere.  Find where that is with this:"
   ]
  },
  {
   "cell_type": "code",
   "execution_count": null,
   "metadata": {},
   "outputs": [],
   "source": [
    "import sxs\n",
    "\n",
    "sxs.sxs_directory(\"config\")  # Probably returns some path in your home directory"
   ]
  },
  {
   "cell_type": "markdown",
   "metadata": {},
   "source": [
    "Now, let's try to write our defaults to the config file:"
   ]
  },
  {
   "cell_type": "code",
   "execution_count": null,
   "metadata": {},
   "outputs": [],
   "source": [
    "sxs.write_config(download=True, cache=True, auto_supersede=True)"
   ]
  },
  {
   "cell_type": "markdown",
   "metadata": {},
   "source": [
    "You can check that this worked by reading your config file:"
   ]
  },
  {
   "cell_type": "code",
   "execution_count": null,
   "metadata": {},
   "outputs": [],
   "source": [
    "sxs.read_config()"
   ]
  },
  {
   "cell_type": "markdown",
   "metadata": {},
   "source": [
    "You can also find the directory used to cache the data:"
   ]
  },
  {
   "cell_type": "code",
   "execution_count": null,
   "metadata": {},
   "outputs": [],
   "source": [
    "sxs.sxs_directory(\"cache\")  # Probably returns some path in your home directory"
   ]
  },
  {
   "cell_type": "markdown",
   "metadata": {},
   "source": [
    "Now that that's all set up, you should be able to use the `sxs` package efficiently."
   ]
  },
  {
   "cell_type": "markdown",
   "metadata": {},
   "source": [
    "# User interface: Proof of concept\n",
    "\n",
    "The goal of this package is to enable users to do something like this:\n",
    "\n",
    "```python\n",
    "sxs_bbh_1234 = sxs.load(\"SXS:BBH:1234\")\n",
    "h = sxs_bbh_1234.h\n",
    "```\n",
    "\n",
    "The first line will\n",
    "\n",
    "  1. download the catalog of SXS `Simulations` with relevant metadata, if necessary, and cache it to disk if desired\n",
    "  2. find the metadata for the simulation with the given ID\n",
    "  3. check that the simulation has not been deprecated (if so, it will advise you of what to do)\n",
    "  4. decide on the version and `Lev` to use — defaulting to the most recent of each\n",
    "  5. download the list of files for that simulation, if necessary, and cache it to disk if desired\n",
    "  6. return a `Simulation` object with the metadata for \"SXS:BBH:0123\"\n",
    "\n",
    "However, no data will be loaded (or downloaded if necessary) until requested.  The second line requests\n",
    "the strain data `h` for this simulation.  This line will\n",
    "\n",
    "  1. download the `h` data, if necessary, and cache it to disk if desired\n",
    "  2. load the data as a `WaveformModes` object, providing a uniform interface to the data\n",
    "  3. cache the data in the `Simulation` object, so that it is not reloaded if requested again\n",
    "\n",
    "Just to prove that this is possible, here's a simple example taking you from zero to plot in four lines of code:"
   ]
  },
  {
   "cell_type": "code",
   "execution_count": null,
   "metadata": {
    "ExecuteTime": {
     "end_time": "2020-09-17T14:19:18.848069Z",
     "start_time": "2020-09-17T14:19:09.946616Z"
    }
   },
   "outputs": [],
   "source": [
    "import matplotlib.pyplot as plt\n",
    "import sxs\n",
    "\n",
    "sxs_bbh_1234 = sxs.load(\"SXS:BBH:1234\")\n",
    "plt.plot(sxs_bbh_1234.h.t, sxs_bbh_1234.h.data.real);"
   ]
  },
  {
   "cell_type": "markdown",
   "metadata": {},
   "source": [
    "(If this failed for you, it's probably because you don't already have the data, and you haven't set up the sensible defaults in the previous section.  Review that advice to see how to set up those defaults, or pass `download=True` to the `sxs.load` function to download just this once.)\n",
    "\n",
    "This example loads the metadata into the `sxs_bbh_1234` object.  Then, as soon as `sxs_bbh_1234.h` is accessed, it downloads and loads the waveform.  We extract the time data with `sxs_bbh_1234.h.t`, and the real part of the complex data with `sxs_bbh_1234.h.data.real`.  We will get into much more detail about this in the following notebooks."
   ]
  },
  {
   "cell_type": "markdown",
   "metadata": {},
   "source": [
    "# The notebooks\n",
    "\n",
    "It is probably best to go through these notebooks in order:\n",
    "\n",
    "  1. [The `Simulations` interface and `Metadata`](/tutorials/01-Simulations_and_Metadata)\n",
    "  2. [The `Simulation` interface](/tutorials/02-Simulation)\n",
    "  3. [Data describing `Horizons`](/tutorials/03-Horizons)\n",
    "  4. [Introduction to `WaveformModes` objects](/tutorials/04-Waveforms)"
   ]
  }
 ],
 "metadata": {
  "kernelspec": {
   "display_name": "Python 3",
   "language": "python",
   "name": "python3"
  },
  "language_info": {
   "codemirror_mode": {
    "name": "ipython",
    "version": 3
   },
   "file_extension": ".py",
   "mimetype": "text/x-python",
   "name": "python",
   "nbconvert_exporter": "python",
   "pygments_lexer": "ipython3",
   "version": "3.11.9"
  },
  "widgets": {
   "application/vnd.jupyter.widget-state+json": {
    "state": {},
    "version_major": 2,
    "version_minor": 0
   }
  }
 },
 "nbformat": 4,
 "nbformat_minor": 4
}
