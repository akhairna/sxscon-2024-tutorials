{
 "cells": [
  {
   "cell_type": "markdown",
   "metadata": {},
   "source": [
    "# Binary black hole initial data\n",
    "\n",
    "SpECTRE includes an initial data solver for high-spin and very accurate binary\n",
    "black hole initial data. The initial data can be used to seed evolutions of\n",
    "merging black holes with SpECTRE or other evolution codes, e.g. based on\n",
    "excisions or moving punctures. Some features of the initial data include:\n",
    "\n",
    "- **High spins**: Black holes can be imbued with spins up to $\\sim 0.994$, which\n",
    "  are the highest spins that have been achieved to [date](???). Note that this\n",
    "  number refers to the _relaxed_ dimensionless spins measured after a bit of\n",
    "  evolution, after the initial transient of spurious junk radiation has passed.\n",
    "- **Low junk radiation:** We minimize junk radiation to achieve high spins by\n",
    "  solving on a curved conformal background, which is built from a superposition\n",
    "  of Kerr black holes. This is necessary because not even the Kerr solution has\n",
    "  conformally flat slices, so we cannot hope to achieve high-spin binary initial\n",
    "  data in conformal flatness.\n",
    "- **No symmetries:** Spins can be arbitrarily oriented with respect to the\n",
    "  orbital angular momentum and each other, allowing for precessing binaries.\n",
    "- **XCTS formulation:** We solve for the equilibrium lapse and shift in addition\n",
    "  to the conformal factor, providing a possible coordinate choice to start the\n",
    "  evolution.\n",
    "- **Excision:** Black holes are represented as excised regions in the initial\n",
    "  data. The excisions are ellipsoids of constant Boyer-Lindquist radius to\n",
    "  account for spinning black holes. The excisions are placed slightly _inside_\n",
    "  the horizons by using _negative-expansion boundary conditions_, so the\n",
    "  horizons are always well resolved. No extrapolation into the excisions is\n",
    "  needed to start an evolution that also uses an excision method. For evolutions\n",
    "  that use a moving puncture method we provide an extrapolation routine to fill\n",
    "  the excisions.\n",
    "- **Interpolation:** The initial data can be interpolated to any given set of\n",
    "  coordinates to start an evolution.\n",
    "- **Parameter control:** We provide a method to precisely control the masses,\n",
    "  spins, and other parameters by repeated initial data solves.\n",
    "- **Eccentricity control:** We also provide a method to control the orbital\n",
    "  eccentricity. This requires an evolution, which can be done with SpECTRE or\n",
    "  another evolution code.\n",
    "\n",
    "To generate initial data you need a copy of the `SolveXcts` executable. You can\n",
    "obtain it in the following ways:\n",
    "- **Container:** if you have [Docker]() or [Apptainer/Singularity]() available\n",
    "  on your workstation or cluster, then the container is a very easy way to run\n",
    "  the code. Just run the following command:\n",
    "\n",
    "  ```sh\n",
    "  # Docker\n",
    "  docker run sxscollaboration/spectre bbh generate-id --help\n",
    "  # Apptainer/Singularity\n",
    "  apptainer run docker://sxscollaboration/spectre bbh generate-id --help\n",
    "  ```\n",
    "\n",
    "  The container will download and execute the `generate-id` command-line\n",
    "  interface (CLI).\n",
    "- **Precompiled executables:** on supported systems (Linux with a reasonably\n",
    "  recent CPU) you can download the precompiled executables that we distribute\n",
    "  with every release. Run them like this:\n",
    "\n",
    "  ```sh\n",
    "  SolveXcts --input-file INPUT_FILE\n",
    "  ```\n",
    "\n",
    "  This doesn't get you access to the `generate-id` tool, so you have to copy and\n",
    "  edit your own YAML input files.\n",
    "- **Compile yourself:** follow the [installation instructions]() to configure a\n",
    "  SpECTRE build and compile the targets `SolveXcts` and `cli`. Also compile the\n",
    "  target `BundledExporter` if you want to import the data into another code.\n",
    "  Run the following command in the build directory:\n",
    "\n",
    "  ```sh\n",
    "  spectre bbh generate-id --help\n",
    "  ```\n",
    "\n",
    "In the following we use the Python interface, but all command are also available\n",
    "from command line."
   ]
  },
  {
   "cell_type": "code",
   "execution_count": null,
   "metadata": {},
   "outputs": [],
   "source": [
    "import h5py\n",
    "import glob\n",
    "import matplotlib.pyplot as plt\n",
    "import numpy as np\n",
    "import pandas as pd\n",
    "import rich\n",
    "import yaml\n",
    "from pathlib import Path\n",
    "from spectre.Visualization.Plot import DEFAULT_MPL_STYLESHEET\n",
    "\n",
    "plt.style.use(DEFAULT_MPL_STYLESHEET)"
   ]
  },
  {
   "cell_type": "code",
   "execution_count": null,
   "metadata": {},
   "outputs": [],
   "source": [
    "# We will generate initial data in this directory.\n",
    "run_dir = Path(\"runs/InitialData\")"
   ]
  },
  {
   "cell_type": "markdown",
   "metadata": {},
   "source": [
    "## Generate initial data\n",
    "\n",
    "Use the `spectre bbh generate-id` command of the BBH pipeline to run the initial\n",
    "data solver. It is also available in Python as the `generate_id` function:"
   ]
  },
  {
   "cell_type": "code",
   "execution_count": null,
   "metadata": {},
   "outputs": [],
   "source": [
    "from spectre.Pipelines.Bbh.InitialData import generate_id"
   ]
  },
  {
   "cell_type": "markdown",
   "metadata": {},
   "source": [
    "The function will generate an input file for the `SolveXcts` executable based on\n",
    "your input parameters and run it.\n",
    "\n",
    "Alternatively, you can copy the input file in\n",
    "`support/Pipelines/Bbh/InitialData.yaml`, edit it manually, and run `SolveXcts\n",
    "--input-file InitialData.yaml`.\n",
    "\n",
    "The initial data solve will take ~5 minutes to run on 32 cores, which is what we\n",
    "have available on Oscar. It will be faster if you have more cores available.\n",
    "\n",
    "Here's an example to generate equal-mass nonspinning BBH initial data:"
   ]
  },
  {
   "cell_type": "code",
   "execution_count": null,
   "metadata": {},
   "outputs": [],
   "source": [
    "generate_id(\n",
    "    # Intrinsic parameters\n",
    "    mass_a=0.5,\n",
    "    mass_b=0.5,\n",
    "    dimensionless_spin_a=[0, 0, 0],\n",
    "    dimensionless_spin_b=[0, 0, 0],\n",
    "    # Orbital parameters\n",
    "    # (you can get a low-eccentricity estimate from\n",
    "    # `spectre.Pipelines.EccentricityControl.InitialOrbitalParameters`)\n",
    "    separation=16.0,\n",
    "    orbital_angular_velocity=0.015,\n",
    "    radial_expansion_velocity=0.0,\n",
    "    # Output files will be written to this directory\n",
    "    run_dir=run_dir,\n",
    "    # Parameter control\n",
    "    # (enable to drive horizon masses and spins to the values above)\n",
    "    control=False,\n",
    "    # Scheduling options\n",
    "    # scheduler: 'None' to run directly or 'sbatch' to submit a job on a\n",
    "    # supported cluster\n",
    "    scheduler=\"sbatch\",\n",
    "    submit=True,\n",
    "    time_limit=\"01:00:00\",\n",
    ")"
   ]
  },
  {
   "cell_type": "markdown",
   "metadata": {},
   "source": [
    "> **On the command line:** Try `spectre bbh generate-id --help`."
   ]
  },
  {
   "cell_type": "code",
   "execution_count": null,
   "metadata": {},
   "outputs": [],
   "source": [
    "%%bash\n",
    "# Check status of your job\n",
    "export COLUMNS=150\n",
    "spectre status"
   ]
  },
  {
   "cell_type": "markdown",
   "metadata": {},
   "source": [
    "## Plot the output\n",
    "\n",
    "The result of the initial data solve is written to a set of H5 files in the\n",
    "`run_dir`. We will use sample initial data here, but you can point this to your\n",
    "generated data as well:"
   ]
  },
  {
   "cell_type": "code",
   "execution_count": null,
   "metadata": {},
   "outputs": [],
   "source": [
    "%%bash\n",
    "export ID_DIR=/oscar/data/icerm/nvu8/05_Friday/InitialData\n",
    "\n",
    "ls $ID_DIR"
   ]
  },
  {
   "cell_type": "markdown",
   "metadata": {},
   "source": [
    "We can do a quick plot using the `plot_slice` tool.\n",
    "\n",
    "> **One the command line:** the `plot_slice` tool is available on the command\n",
    "> line as `spectre plot slice --help`. Many more tools to do quick plots are\n",
    "> available in the `spectre plot` subcommand."
   ]
  },
  {
   "cell_type": "code",
   "execution_count": null,
   "metadata": {},
   "outputs": [],
   "source": [
    "run_dir = Path(\"/oscar/data/icerm/nvu8/05_Friday/InitialData\")"
   ]
  },
  {
   "cell_type": "code",
   "execution_count": null,
   "metadata": {},
   "outputs": [],
   "source": [
    "from spectre.Visualization.PlotSlice import plot_slice\n",
    "from spectre.Visualization.ReadH5 import list_observations\n",
    "from spectre.Visualization.OpenVolfiles import open_volfiles"
   ]
  },
  {
   "cell_type": "code",
   "execution_count": null,
   "metadata": {},
   "outputs": [],
   "source": [
    "with open(run_dir / \"InitialData.yaml\", \"r\") as open_input_file:\n",
    "    _, input_file = yaml.safe_load_all(open_input_file)"
   ]
  },
  {
   "cell_type": "code",
   "execution_count": null,
   "metadata": {},
   "outputs": [],
   "source": [
    "h5files = glob.glob(str(run_dir / \"BbhVolume*.h5\"))\n",
    "obs_ids, obs_times = list_observations(open_volfiles(h5files, \"VolumeData\"))\n",
    "_ = plot_slice(\n",
    "    h5files,\n",
    "    subfile_name=\"VolumeData\",\n",
    "    obs_id=obs_ids[-1],\n",
    "    obs_time=obs_times[-1],\n",
    "    var_name=\"ConformalFactor\",\n",
    "    slice_origin=[0, 0, 0],\n",
    "    slice_extent=[32, 32],\n",
    "    slice_normal=[0, 0, 1],\n",
    "    slice_up=[0, 1, 0],\n",
    ")\n",
    "\n",
    "\n",
    "# Plot excisions\n",
    "def plot_excisions():\n",
    "    excision_radius = input_file[\"DomainCreator\"][\"BinaryCompactObject\"][\"ObjectA\"][\n",
    "        \"InnerRadius\"\n",
    "    ]\n",
    "    phi = np.linspace(0, 2 * np.pi, 100)\n",
    "    for xcoord in input_file[\"Background\"][\"Binary\"][\"XCoords\"]:\n",
    "        excision_xy = np.array(\n",
    "            [excision_radius * np.cos(phi), excision_radius * np.sin(phi)]\n",
    "        )\n",
    "        excision_xy[0] += xcoord\n",
    "        plt.gca().add_patch(\n",
    "            plt.Polygon(\n",
    "                excision_xy.T,\n",
    "                facecolor=\"black\",\n",
    "                fill=True,\n",
    "                edgecolor=\"black\",\n",
    "                linewidth=1,\n",
    "            )\n",
    "        )\n",
    "\n",
    "\n",
    "plot_excisions()"
   ]
  },
  {
   "cell_type": "markdown",
   "metadata": {},
   "source": [
    "## Find horizons in the initial data\n",
    "\n",
    "Apparent horizons are automatically found in the initial data after the solve is\n",
    "complete, and written to a `Horizons.h5` file:"
   ]
  },
  {
   "cell_type": "code",
   "execution_count": null,
   "metadata": {},
   "outputs": [],
   "source": [
    "from spectre.Visualization.ReadH5 import to_dataframe"
   ]
  },
  {
   "cell_type": "code",
   "execution_count": null,
   "metadata": {},
   "outputs": [],
   "source": [
    "with h5py.File(run_dir / \"Horizons.h5\", \"r\") as open_horizons_file:\n",
    "    AhA = to_dataframe(open_horizons_file[\"AhA.dat\"])\n",
    "AhA"
   ]
  },
  {
   "cell_type": "markdown",
   "metadata": {},
   "source": [
    "We can also find a horizon in the initial data by running the horizon finder:"
   ]
  },
  {
   "cell_type": "code",
   "execution_count": null,
   "metadata": {},
   "outputs": [],
   "source": [
    "from spectre.Pipelines.Bbh.FindHorizon import find_horizon\n",
    "from spectre.SphericalHarmonics import Strahlkorper, cartesian_coords"
   ]
  },
  {
   "cell_type": "code",
   "execution_count": null,
   "metadata": {},
   "outputs": [],
   "source": [
    "horizon_shape, horizon_quantities = find_horizon(\n",
    "    h5files,\n",
    "    subfile_name=\"VolumeData\",\n",
    "    obs_id=obs_ids[-1],\n",
    "    obs_time=obs_times[-1],\n",
    "    initial_guess=Strahlkorper(l_max=12, radius=1.0, center=[8, 0, 0]),\n",
    ")\n",
    "rich.print(horizon_quantities)"
   ]
  },
  {
   "cell_type": "markdown",
   "metadata": {},
   "source": [
    "Here's the shape of the excision and of the apparent horizon in the initial\n",
    "data:"
   ]
  },
  {
   "cell_type": "code",
   "execution_count": null,
   "metadata": {},
   "outputs": [],
   "source": [
    "_ = plot_slice(\n",
    "    h5files,\n",
    "    subfile_name=\"VolumeData\",\n",
    "    obs_id=obs_ids[-1],\n",
    "    obs_time=obs_times[-1],\n",
    "    var_name=\"Lapse\",\n",
    "    slice_origin=[8, 0, 0],\n",
    "    slice_extent=[3, 3],\n",
    "    slice_normal=[0, 0, 1],\n",
    "    slice_up=[0, 1, 0],\n",
    ")\n",
    "# Plot excision\n",
    "excision_radius = input_file[\"DomainCreator\"][\"BinaryCompactObject\"][\"ObjectA\"][\n",
    "    \"InnerRadius\"\n",
    "]\n",
    "phi = np.linspace(0, 2 * np.pi, 100)\n",
    "excision_xy = np.array(\n",
    "    [excision_radius * np.cos(phi), excision_radius * np.sin(phi)]\n",
    ")\n",
    "excision_xy[0] += 8\n",
    "plt.gca().add_patch(\n",
    "    plt.Polygon(\n",
    "        excision_xy.T,\n",
    "        facecolor=\"black\",\n",
    "        fill=True,\n",
    "        edgecolor=\"black\",\n",
    "        linewidth=2.5,\n",
    "    )\n",
    ")\n",
    "# Plot horizon\n",
    "horizon_xyz = np.array(cartesian_coords(Strahlkorper(32, 32, horizon_shape)))\n",
    "horizon_xy = horizon_xyz[:2, np.abs(horizon_xyz[2]) < 1e-14]\n",
    "plt.gca().add_patch(\n",
    "    plt.Polygon(\n",
    "        horizon_xy.T,\n",
    "        fill=False,\n",
    "        edgecolor=\"white\",\n",
    "        linewidth=2.0,\n",
    "        linestyle=\"dotted\",\n",
    "    )\n",
    ");"
   ]
  },
  {
   "cell_type": "markdown",
   "metadata": {},
   "source": [
    "You can see that the initial data extends slightly into the apparent horizon. We\n",
    "do this by imposing _negative-expansion boundary conditions_ on the excision\n",
    "boundary. Specifically, we do this:\n",
    "\n",
    "1. Choose the excision surface $\\mathcal{S}$ as the ellipsoid with constant\n",
    "   Boyer-Lindquist radius $R_\\mathrm{BL}=0.94 \\, r_+$ in Kerr-Schild\n",
    "   coordinates, where $r_+$ is the outer Kerr horizon of the isolated solution\n",
    "   with the given masses and spins.\n",
    "2. Impose the _expansion_ on the excision surface has the value\n",
    "   $\\Theta=\\Theta_\\mathrm{Kerr}$, where $\\Theta_\\mathrm{Kerr}$ is the expansion\n",
    "   of the isolated Kerr solution evaluated on $\\mathcal{S}$. This value will be\n",
    "   negative, because $\\mathcal{S}$ is slightly inside the apparent horizon of\n",
    "   the isolated Kerr solution."
   ]
  },
  {
   "cell_type": "markdown",
   "metadata": {},
   "source": [
    "## Start an evolution: interpolate and extrapolate the data\n",
    "\n",
    "To start an evolution from the generated initial data we have to interpolate to\n",
    "the evolution grid, which is often completely different from the initial data\n",
    "grid. You typically want to interpolate the spatial metric $\\gamma_{ij}$ and the\n",
    "extrinsic curvature $K_{ij}$, and possibly also the lapse $\\alpha$ and the shift\n",
    "$\\beta^i$.\n",
    "\n",
    "In SpECTRE this is supported natively by the `EvolveBinaryBlackHole` executable.\n",
    "You just set the `InitialData` section of the input file to `NumericInitialData`\n",
    "and specify paths to the initial data files (see `Inspiral.yaml` for an\n",
    "example). We have used this in the BBH pipeline on Monday.\n",
    "\n",
    "To import the initial data into another evolution code, you have the following\n",
    "options:"
   ]
  },
  {
   "cell_type": "markdown",
   "metadata": {},
   "source": [
    "### 1) Interpolate in Python\n",
    "\n",
    "Use the `interpolate_to_points` or `interpolate_tensors_to_points` function.\n",
    "They only differ in how they handle tensor components:\n",
    "\n",
    "- `interpolate_to_points` takes individual tensor components like\n",
    "  `tensor_components=[\"SpatialMetric_xx\", ...]` and returns a list of all\n",
    "  interpolated components.\n",
    "- `interpolate_tensors_to_points` works with our tensor types, so it takes\n",
    "  `tensor_names=[\"SpatialMetric\", ...]` and\n",
    "  `tensor_types=[tnsr.ii[DataVector, 3], ...]` and also returns a list of\n",
    "  tensors.\n",
    "\n",
    "Tensors easily convert to numpy arrays, so we recommend to use\n",
    "`interpolate_tensors_to_points` unless you want to interpolate only specific\n",
    "components."
   ]
  },
  {
   "cell_type": "code",
   "execution_count": null,
   "metadata": {},
   "outputs": [],
   "source": [
    "from spectre.IO.Exporter import interpolate_tensors_to_points\n",
    "from spectre.DataStructures.Tensor import tnsr, Scalar, DataVector"
   ]
  },
  {
   "cell_type": "code",
   "execution_count": null,
   "metadata": {},
   "outputs": [],
   "source": [
    "# Create a Cartesian grid of points\n",
    "x, y = np.meshgrid(\n",
    "    np.linspace(-16, 16, 200),\n",
    "    np.linspace(-16, 16, 200),\n",
    ")\n",
    "z = np.zeros(x.shape)\n",
    "\n",
    "# Interpolate!\n",
    "spatial_metric, extrinsic_curvature, lapse, shift = interpolate_tensors_to_points(\n",
    "    h5files,\n",
    "    subfile_name=\"VolumeData\",\n",
    "    observation_id=obs_ids[-1],\n",
    "    tensor_names=[\"SpatialMetric\", \"ExtrinsicCurvature\", \"Lapse\", \"Shift\"],\n",
    "    tensor_types=[\n",
    "        tnsr.ii[DataVector, 3],\n",
    "        tnsr.ii[DataVector, 3],\n",
    "        Scalar[DataVector],\n",
    "        tnsr.I[DataVector, 3],\n",
    "    ],\n",
    "    target_points=[x.flatten(), y.flatten(), z.flatten()],\n",
    ")"
   ]
  },
  {
   "cell_type": "markdown",
   "metadata": {},
   "source": [
    "This is the order of components in the returned tensors:"
   ]
  },
  {
   "cell_type": "code",
   "execution_count": null,
   "metadata": {},
   "outputs": [],
   "source": [
    "for i in range(len(spatial_metric)):\n",
    "    print(\"SpatialMetric\" + spatial_metric.component_suffix(i))"
   ]
  },
  {
   "cell_type": "code",
   "execution_count": null,
   "metadata": {},
   "outputs": [],
   "source": [
    "# Plot lapse contours\n",
    "plt.contourf(x, y, np.reshape(lapse, x.shape))\n",
    "# Plot shift streamlines\n",
    "plt.streamplot(\n",
    "    x,\n",
    "    y,\n",
    "    np.reshape(shift[0], x.shape),\n",
    "    np.reshape(shift[1], x.shape),\n",
    "    linewidth=0.3,\n",
    "    color=\"black\",\n",
    "    arrowsize=0.6,\n",
    "    density=2,\n",
    ")\n",
    "plot_excisions()\n",
    "plt.gca().set_aspect(\"equal\")"
   ]
  },
  {
   "cell_type": "markdown",
   "metadata": {},
   "source": [
    "### 2) Interpolate on the command line\n",
    "\n",
    "You can also create a file with all the coordinates you want to interpolate to\n",
    "and pass it to the command-line tool `spectre interpolate-to-points`. It will\n",
    "output a file with the interpolated variables:"
   ]
  },
  {
   "cell_type": "code",
   "execution_count": null,
   "metadata": {},
   "outputs": [],
   "source": [
    "coords = np.array([x.flatten(), y.flatten(), z.flatten()]).T\n",
    "print(\"Shape of coordinates array: \", coords.shape)\n",
    "np.savetxt(\"runs/coords.dat\", coords)\n",
    "# Pass this file to `spectre interpolate-to-points`."
   ]
  },
  {
   "cell_type": "code",
   "execution_count": null,
   "metadata": {},
   "outputs": [],
   "source": [
    "%%bash\n",
    "export ID_DIR=/oscar/data/icerm/nvu8/05_Friday/InitialData\n",
    "\n",
    "spectre interpolate-to-points $ID_DIR/BbhVolume*.h5 \\\n",
    "    -y Lapse -y \"Shift_*\" -y \"SpatialMetric_*\" -y \"ExtrinsicCurvature_*\" \\\n",
    "    --step -1 -t runs/coords.dat -o runs/interpolated.dat"
   ]
  },
  {
   "cell_type": "code",
   "execution_count": null,
   "metadata": {},
   "outputs": [],
   "source": [
    "%%bash\n",
    "head runs/interpolated.dat"
   ]
  },
  {
   "cell_type": "markdown",
   "metadata": {},
   "source": [
    "### 3) Interpolate in your code\n",
    "\n",
    "You can also call a C++ function from within your code to interpolate the data.\n",
    "To do this, link the compiled `BundledExporter.so` library in your code and\n",
    "include the `spectre/Exporter.hpp` header. You can find an example how to link\n",
    "the library in `tests/Unit/IO/Exporter/BundledExporter/CMakeLists.txt`.\n",
    "\n",
    "Then, call the C++ function `spectre::Exporter::interpolate_to_points`. It works\n",
    "just like the Python functions shown above, in that you pass it the target\n",
    "coordinates and it returns the interpolated data. See the file\n",
    "`tests/Unit/IO/Exporter/BundledExporter/Test_BundledExporter.cpp` for an\n",
    "example.\n",
    "\n",
    "It is also possible to call C or Fortran bindings of this function. Get in touch\n",
    "for more information."
   ]
  },
  {
   "cell_type": "markdown",
   "metadata": {},
   "source": [
    "### Extrapolate into the excisions for moving puncture codes"
   ]
  },
  {
   "cell_type": "markdown",
   "metadata": {},
   "source": [
    "For moving puncture codes we have to fill the excisions. This can be done simply\n",
    "by setting the `extrapolate_into_excisions` option of\n",
    "`interpolate_tensors_to_points` or any of the alternatives listed above:"
   ]
  },
  {
   "cell_type": "code",
   "execution_count": null,
   "metadata": {},
   "outputs": [],
   "source": [
    "_ = plot_slice(\n",
    "    h5files,\n",
    "    subfile_name=\"VolumeData\",\n",
    "    obs_id=obs_ids[-1],\n",
    "    obs_time=obs_times[-1],\n",
    "    var_name=\"ConformalFactor\",\n",
    "    slice_origin=[0, 0, 0],\n",
    "    slice_extent=[32, 32],\n",
    "    slice_normal=[0, 0, 1],\n",
    "    slice_up=[0, 1, 0],\n",
    "    # Extrapolate into the excisions!\n",
    "    extrapolate_into_excisions=True,\n",
    "    data_bounds=(1, 1.2),\n",
    ")"
   ]
  },
  {
   "cell_type": "markdown",
   "metadata": {},
   "source": [
    "The extrapolation uses a 7th order polynomial extrapolation constructed from\n",
    "anchor points on rings around the excision with $\\Delta r = 0.3 r_H$, with $r_H$\n",
    "the radius of the excision. This method is described in [Etienne](), though we\n",
    "extend it work with our excisions that may not be spherical."
   ]
  },
  {
   "cell_type": "markdown",
   "metadata": {},
   "source": []
  }
 ],
 "metadata": {
  "kernelspec": {
   "display_name": "Python 3 (ipykernel)",
   "language": "python",
   "name": "python3"
  }
 },
 "nbformat": 4,
 "nbformat_minor": 2
}
