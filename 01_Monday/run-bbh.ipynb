{
 "cells": [
  {
   "cell_type": "markdown",
   "metadata": {},
   "source": [
    "# Starting a binary black hole simulation\n",
    "\n",
    "One of the systems that we are simulating with SpECTRE are binary black hole\n",
    "(BBH) mergers and their gravitational waves at very high accuracy. In this\n",
    "tutorial we will start a BBH simulation with SpECTRE and monitor its output."
   ]
  },
  {
   "cell_type": "markdown",
   "metadata": {},
   "source": [
    "First, make sure that you have compiled all the executables you need for running\n",
    "BBH simulations:\n",
    "\n",
    "```sh\n",
    "make -j24 cli bbh\n",
    "```"
   ]
  },
  {
   "cell_type": "markdown",
   "metadata": {},
   "source": [
    "We will use the SpECTRE command-line interface (CLI) in this session. You have\n",
    "learned how to access the CLI in the technology check session. Try it now by\n",
    "exploring the `spectre bbh` subcommand of the CLI:"
   ]
  },
  {
   "cell_type": "code",
   "execution_count": 1,
   "metadata": {},
   "outputs": [
    {
     "name": "stdout",
     "output_type": "stream",
     "text": [
      "Usage: spectre bbh [OPTIONS] COMMAND [ARGS]...\n",
      "\n",
      "  Pipeline for binary black hole simulations.\n",
      "\n",
      "Options:\n",
      "  -h, --help  Show this message and exit.\n",
      "\n",
      "Commands:\n",
      "  find-horizon    Find an apparent horizon in volume data.\n",
      "  generate-id     Generate initial data for a BBH simulation.\n",
      "  postprocess-id  Postprocess initial data after generation.\n",
      "  start-inspiral  Schedule an inspiral simulation from initial data.\n",
      "  start-ringdown  Schedule a ringdown simulation from the inspiral.\n"
     ]
    }
   ],
   "source": [
    "!spectre bbh --help"
   ]
  },
  {
   "cell_type": "markdown",
   "metadata": {},
   "source": [
    "These subcommands are part of the BBH pipeline, which you can use to start and\n",
    "control BBH simulations. Steps in the BBH pipeline are, for example, generating\n",
    "the initial data, running the inspiral simulation, running the ringdown\n",
    "simulation, and extracting waveforms.\n",
    "\n",
    "> Note: all CLI commands are also available in Python, so everything you do with\n",
    "> the CLI you can also do in Python scripts. We will use Python to work with BBH\n",
    "> data in the next session."
   ]
  },
  {
   "cell_type": "markdown",
   "metadata": {},
   "source": [
    "## Generate initial data\n",
    "\n",
    "Using the pipeline, you can generate initial data to start your BBH simulation\n",
    "like this:\n",
    "\n",
    "```sh\n",
    "spectre bbh generate-id -q 1 --chi-A 0 0 0 --chi-B 0 0 0 -D 16 -w 0.015 -a 0 \\\n",
    "  --no-control -d ./01_bbh\n",
    "```"
   ]
  },
  {
   "cell_type": "markdown",
   "metadata": {},
   "source": [
    "That's it! Now your job is scheduled on the cluster. Once the job runs, it will\n",
    "generate initial data with the parameter you have specified. To get initial data\n",
    "quickly we have disabled the control loop that drives the horizon masses and\n",
    "spins to your specified parameters with `--no-control`. We could also add\n",
    "`--evolve` to start the evolution of the initial data right after generation.\n",
    "However, we'll start the inspiral in a separate command below to control the\n",
    "parameters.\n",
    "\n",
    "The initial data will be generated in the _pipeline directory_ (`-d`) that we\n",
    "set to `./01_bbh` in the command above. You will find a directory named\n",
    "`001_InitialData` in the pipeline directory. The next step in the pipeline will\n",
    "create `002_Inspiral`. If you're running just a single step of the pipeline, you\n",
    "can also specify the output directory directly with `-o`.\n",
    "\n",
    "Of course you can change parameters such as the mass-ratio $q$, the black hole\n",
    "spins $\\mathbf{\\chi}_A$ and $\\mathbf{\\chi}_B$, and the initial orbital\n",
    "parameters:\n",
    "\n",
    "- Coordinate separation $D_0$ (`-D`)\n",
    "- Orbital angular velocity $\\Omega_0$ (`-w`)\n",
    "- Radial expansion velocity $\\dot{a}_0$ (`-a`)\n",
    "\n",
    "Alternatively, you can choose `--eccentricity=0` plus either `--num-orbits`, or\n",
    "`--time-to-merger`, or one of the above orbital parameters to define the orbit\n",
    "based on post-Newtonian estimates.\n",
    "\n",
    "> To learn more about initial data generation you will have to wait until\n",
    "> Friday.\n",
    "\n",
    "The initial data generation should take about 4.5 minutes to complete at this\n",
    "(fairly high) resolution on the 32 cores that we have available on Oscar."
   ]
  },
  {
   "cell_type": "markdown",
   "metadata": {},
   "source": [
    "## Starting the inspiral\n",
    "\n",
    "The steps of the pipeline are connected, e.g. you can pass `--evolve` to\n",
    "`spectre bbh generate-id` to automatically start the inspiral right after\n",
    "initial data generation. However, you can also run each step in the pipeline on\n",
    "its own, e.g. to start the inspiral with different parameters or in another\n",
    "directory. Let's start the inspiral on just 1 node (with 32 cores), because\n",
    "that's what we have available on Oscar:\n",
    "\n",
    "```sh\n",
    "spectre bbh start-inspiral 01_bbh/001_InitialData/InitialData.yaml \\\n",
    "  -N 1 -d ./01_bbh\n",
    "```"
   ]
  },
  {
   "cell_type": "markdown",
   "metadata": {},
   "source": [
    "This will create `002_Inspiral` in your pipeline directory. In it, the first\n",
    "_segment_ of your BBH simulation will start. A segment is a chunk of a\n",
    "long-running simulation, which will terminate after some time (typically 1 day)\n",
    "and resubmit itself so we can run on supercomputers with time-limited queues."
   ]
  },
  {
   "cell_type": "markdown",
   "metadata": {},
   "source": [
    "Note that you can also start the inspiral from SpEC data (if you happen to have\n",
    "some):\n",
    "\n",
    "```sh\n",
    "spectre bbh start-inspiral path/to/ID_Params.perl -O bbh_spec\n",
    "```"
   ]
  },
  {
   "cell_type": "markdown",
   "metadata": {},
   "source": [
    "## Monitoring your simulation\n",
    "\n",
    "Now you can monitor your simulation. Try running:\n",
    "\n",
    "```sh\n",
    "spectre status\n",
    "```"
   ]
  },
  {
   "cell_type": "markdown",
   "metadata": {},
   "source": [
    "It will show you the state of your running simulations on this machine.\n",
    "\n",
    "> **Pro tip:** Try `spectre status -w 5` in a separate terminal to keep watch of\n",
    "> your simulations, updating every 5 seconds.\n",
    "\n",
    "You can also run a dashboard to give you a visual summary of your running\n",
    "simulations with lots of plots (this is still very experimental):\n",
    "\n",
    "```sh\n",
    "python-spectre -m streamlit run $SPECTRE_HOME/tools/Status/Dashboard.py\n",
    "```\n",
    "\n",
    "We have the dashboard running on Oscar, so if you're feeling adventorous you can\n",
    "forward port 8501 on Oscar's `vscode1` node and open the dashboard in your\n",
    "browser:\n",
    "\n",
    "- Dashboard URL: http://localhost:8501"
   ]
  },
  {
   "cell_type": "markdown",
   "metadata": {},
   "source": [
    "### Example: Plot trajectories\n",
    "\n",
    "You can use the spectre CLI to inspect the output data of the simulation while\n",
    "it is running. We will explore simulation data in detail in the next tutorial.\n",
    "For now, just try to plot the trajectories:\n",
    "\n",
    "```sh\n",
    "spectre plot trajectories 01_bbh/002_Inspiral/Segment_*/BbhReductions.h5 \\\n",
    "  -o trajectories.pdf\n",
    "```\n",
    "\n",
    "> Note: If you want to try this before your simulation has sufficiently\n",
    "> progressed to show anything interesting, you can look at the complete\n",
    "> simulation data in this directory:\n",
    ">\n",
    "> ```sh\n",
    "> export BBH_DATA=/oscar/data/icerm/knelli/workshop_materials/01_monday/bbh_inspiral\n",
    "> spectre plot trajectories $BBH_DATA/BbhReductions.h5 -o trajectories.pdf\n",
    "> ```\n",
    "\n",
    "![Trajectories](images/trajectories.png)\n",
    "\n",
    "> **Pro tip:** You can also regularly regenerate plots like this to monitor your\n",
    "> simulation. Try `watch spectre plot trajectories ...`."
   ]
  },
  {
   "cell_type": "markdown",
   "metadata": {},
   "source": [
    "## Inspecting the input file\n",
    "\n",
    "SpECTRE simulations are defined by an input file in YAML format. The input file\n",
    "collects all options for the simulation and also specifies the C++ executable to\n",
    "run it.\n",
    "\n",
    "The inspiral input file that you just started running is here:\n",
    "\n",
    "```\n",
    "01_bbh/002_Inspiral/Segment_0000/Inspiral.yaml\n",
    "```\n",
    "\n",
    "Open the input file to inspect it in an editor of your choice (or just print it\n",
    "with `cat path/to/input/file`).\n",
    "\n"
   ]
  },
  {
   "cell_type": "markdown",
   "metadata": {},
   "source": [
    "## Reproducibility of simulations\n",
    "\n",
    "A quick note on reproducibility, which is a crucial topic in scientific\n",
    "computing:\n",
    "\n",
    "SpECTRE simulations are reasonably well reproducible because (1) all options are\n",
    "defined in the YAML input file, and (2) the input file and even the entire\n",
    "source code used to compile the executable are stored in each H5 output file.\n",
    "\n",
    "So, for the highest level of reproducibility you can extract the input file from\n",
    "an H5 output file (see `spectre extract-input --help`), and also extract the\n",
    "source code archive (see\n",
    "[docs](https://spectre-code.org/tutorial_visualization.html#autotoc_md93)), then\n",
    "compile and run the executable.\n",
    "\n",
    "To help with reproducibility of results you publish in papers, we recommend that\n",
    "you publish your input files as supplementary material and also cite the\n",
    "specific code release with which you ran your simulations (see [Versioning and\n",
    "releases](https://spectre-code.org/versioning_and_releases.html))."
   ]
  },
  {
   "cell_type": "markdown",
   "metadata": {},
   "source": [
    "## Troubleshooting a BBH simulation\n",
    "\n",
    "If something fails (and of course it will), you can start by looking through the\n",
    "data you have. First, look at the log file of your simulation. It's often named\n",
    "`spectre.out` and located in the run directory of your simulation. Go to the\n",
    "very end of the file and look for error messages. If you see many error\n",
    "messages, the first one is often most helpful. Ideally, you'll find a stack\n",
    "trace with the function calls that lead to the error. The error message and the\n",
    "stack trace might already give you an idea as to what has happened.\n",
    "\n",
    "It will also be helpful to analyse the output data that your simulation has\n",
    "written up to this point, and look for anything fishy. In the next tutorial we\n",
    "will go through a lot of ways to analyse output data from your simulations.\n",
    "\n",
    "Once you have collected some clues as to what as happened, the best place to ask\n",
    "for help is the `#spectre` channel on the SXS Slack. See you there!"
   ]
  },
  {
   "cell_type": "markdown",
   "metadata": {},
   "source": [
    "## Eccentricity reduction\n",
    "\n",
    "We have basic support for measuring the orbital eccentricity and updating the\n",
    "initial orbital parameters to reduce the eccentricity. Work on automation and\n",
    "improvements of this procedure are ongoing, and mostly independent of the actual\n",
    "simulation code. You can do a quick estimate of the orbital eccentricity with\n",
    "this:\n",
    "\n",
    "```sh\n",
    "spectre eccentricity-control 01_bbh/002_Inspiral/Segment_0000/BbhReductions.h5 \\\n",
    "  --tmin 500 --tmax 2000 -o eccentricity.pdf\n",
    "```"
   ]
  },
  {
   "cell_type": "markdown",
   "metadata": {},
   "source": []
  }
 ],
 "metadata": {
  "kernelspec": {
   "display_name": "Python 3 (ipykernel)",
   "language": "python",
   "name": "python3"
  },
  "language_info": {
   "codemirror_mode": {
    "name": "ipython",
    "version": 3
   },
   "file_extension": ".py",
   "mimetype": "text/x-python",
   "name": "python",
   "nbconvert_exporter": "python",
   "pygments_lexer": "ipython3",
   "version": "3.9.16"
  }
 },
 "nbformat": 4,
 "nbformat_minor": 2
}
