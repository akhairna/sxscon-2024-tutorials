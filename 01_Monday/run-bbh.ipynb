{
 "cells": [
  {
   "cell_type": "markdown",
   "metadata": {},
   "source": [
    "# Starting a binary black hole simulation\n",
    "\n",
    "One of the systems that we are simulating with SpECTRE are binary black hole\n",
    "(BBH) mergers and their gravitational waves at very high accuracy. In this\n",
    "tutorial we will (try to) start a BBH simulation with SpECTRE and monitor its output."
   ]
  },
  {
   "cell_type": "markdown",
   "metadata": {},
   "source": [
    "First, make sure that you have compiled all the executables you need for running\n",
    "BBH simulations (on a compute node!)\n",
    "\n",
    "```sh\n",
    "make -j24 cli bbh\n",
    "```\n",
    "\n",
    "This will include\n",
    "- SolveXcts (initial data)\n",
    "- EvolveGhBinaryBlackHole (inspiral)\n",
    "- EvolveGhSingleBlackHole (ringdown)"
   ]
  },
  {
   "cell_type": "markdown",
   "metadata": {},
   "source": [
    "We will use the SpECTRE command-line interface (CLI) in this session. You have\n",
    "learned how to access the CLI in the technology check session. Try it now by\n",
    "exploring the `spectre bbh` subcommand of the CLI:"
   ]
  },
  {
   "cell_type": "code",
   "execution_count": 3,
   "metadata": {},
   "outputs": [
    {
     "name": "stdout",
     "output_type": "stream",
     "text": [
      "/oscar/data/icerm/knelli/sxscon-2024-tutorials/01_Monday\n",
      "Usage: spectre bbh [OPTIONS] COMMAND [ARGS]...\n",
      "\n",
      "  Pipeline for binary black hole simulations.\n",
      "\n",
      "Options:\n",
      "  -h, --help  Show this message and exit.\n",
      "\n",
      "Commands:\n",
      "  find-horizon    Find an apparent horizon in volume data.\n",
      "  generate-id     Generate initial data for a BBH simulation.\n",
      "  postprocess-id  Postprocess initial data after generation.\n",
      "  start-inspiral  Schedule an inspiral simulation from initial data.\n",
      "  start-ringdown  Schedule a ringdown simulation from the inspiral.\n"
     ]
    }
   ],
   "source": [
    "!spectre bbh --help"
   ]
  },
  {
   "cell_type": "markdown",
   "metadata": {},
   "source": [
    "### WARNING!! The BBH pipeline is still ***EXTREMELY*** experimental and is under active development. If you find any issues, let a core developer know.\n",
    "\n",
    "These subcommands are part of the BBH pipeline, which you can use to start and\n",
    "control BBH simulations. Steps in the BBH pipeline are, for example,\n",
    "\n",
    "- Generating the initial data\n",
    "- Running the inspiral simulation\n",
    "- Running the ringdown simulation\n",
    "- Extracting waveforms\n",
    "\n",
    "> Note: all CLI commands are also available in Python, so everything you do with\n",
    "> the CLI you can also do in Python scripts. We will use Python to work with BBH\n",
    "> data in the next session."
   ]
  },
  {
   "cell_type": "markdown",
   "metadata": {},
   "source": [
    "## Generate initial data\n",
    "\n",
    "Using the pipeline, you can generate initial data to start your BBH simulation\n",
    "like this:"
   ]
  },
  {
   "cell_type": "code",
   "execution_count": null,
   "metadata": {},
   "outputs": [],
   "source": [
    "%%bash\n",
    "spectre bbh generate-id -q 1 --chi-A 0 0 0 --chi-B 0 0 0 -D 16 -w 0.015 -a 0 --no-control -d ./runs/01_bbh"
   ]
  },
  {
   "cell_type": "markdown",
   "metadata": {},
   "source": [
    "That's it! Now your job is scheduled on the cluster. Once the job runs, it will\n",
    "generate initial data with the parameter you have specified. To get initial data\n",
    "quickly we have disabled the control loop that drives the horizon masses and\n",
    "spins to your specified parameters with `--no-control`. We could also add\n",
    "`--evolve` to start the evolution of the initial data right after generation.\n",
    "However, we'll start the inspiral in a separate command below to control the\n",
    "parameters.\n",
    "\n",
    "The initial data will be generated in the _pipeline directory_ (`-d`) that we\n",
    "set to `./01_bbh` in the command above. You will find a directory named\n",
    "`001_InitialData` in the pipeline directory. The next step in the pipeline will\n",
    "create `002_Inspiral`. If you're running just a single step of the pipeline, you\n",
    "can also specify the output directory directly with `-o` (`-d` and `-o` are mututally exclusive).\n",
    "\n",
    "Of course you can change parameters such as the mass-ratio $q$, the black hole\n",
    "spins $\\mathbf{\\chi}_A$ and $\\mathbf{\\chi}_B$, and the initial orbital\n",
    "parameters:\n",
    "\n",
    "- Coordinate separation $D_0$ (`-D`)\n",
    "- Orbital angular velocity $\\Omega_0$ (`-w`)\n",
    "- Radial expansion velocity $\\dot{a}_0$ (`-a`)\n",
    "\n",
    "Alternatively, you can choose `--eccentricity=0` plus either `--num-orbits`, or\n",
    "`--time-to-merger`, or one of the above orbital parameters to define the orbit\n",
    "based on post-Newtonian estimates.\n",
    "\n",
    "> To learn more about initial data generation you will have to wait until\n",
    "> Friday.\n",
    "\n",
    "The initial data generation should take about 5 minutes to complete at this\n",
    "(fairly high) resolution on the 32 cores that we have available on Oscar. However, because HPC systems can sometimes be unpredictable with how long jobs will be in the queue, we've also run a full initial data solve already. You can find this data at\n",
    "\n",
    "```\n",
    "/oscar/data/icerm/knelli/workshop_materials/01_monday/pipeline_tutorial/001_InitialData\n",
    "```\n",
    "\n",
    "If your own initial data job doesn't finish by the time you get here, just change the paths below to use this data."
   ]
  },
  {
   "cell_type": "code",
   "execution_count": null,
   "metadata": {},
   "outputs": [],
   "source": [
    "# Check if your job has finished\n",
    "!squeue -u $USER"
   ]
  },
  {
   "cell_type": "markdown",
   "metadata": {},
   "source": [
    "## Starting the inspiral\n",
    "\n",
    "The steps of the pipeline are connected, e.g. you can pass `--evolve` to\n",
    "`spectre bbh generate-id` to automatically start the inspiral right after\n",
    "initial data generation. However, you can also run each step in the pipeline on\n",
    "its own, e.g. to start the inspiral with different parameters or in another\n",
    "directory. Let's start the inspiral on just 1 node (with 32 cores), because\n",
    "that's what we have available on Oscar:\n"
   ]
  },
  {
   "cell_type": "code",
   "execution_count": null,
   "metadata": {},
   "outputs": [],
   "source": [
    "%%bash\n",
    "spectre bbh start-inspiral 01_bbh/001_InitialData/InitialData.yaml -N 1 -d ./runs/01_bbh"
   ]
  },
  {
   "cell_type": "markdown",
   "metadata": {},
   "source": [
    "This will create `002_Inspiral` in your pipeline directory. In it, the first\n",
    "_segment_ of your BBH simulation will start. A segment is a chunk of a\n",
    "long-running simulation, which will terminate after some time (typically 1 day)\n",
    "and resubmit itself so we can run on supercomputers with time-limited queues."
   ]
  },
  {
   "cell_type": "markdown",
   "metadata": {},
   "source": [
    "Note that you can also start the inspiral from SpEC data (if you happen to have\n",
    "some):\n",
    "\n",
    "```sh\n",
    "spectre bbh start-inspiral /path/to/ID_Params.perl -O bbh_spec\n",
    "```\n",
    "\n",
    "While the BBH pipeline is still experimental, we recommend reviewing the input YAMLs generated for any errors."
   ]
  },
  {
   "cell_type": "markdown",
   "metadata": {},
   "source": [
    "## Monitoring your simulation\n",
    "\n",
    "Now you can monitor your simulation. Try running:"
   ]
  },
  {
   "cell_type": "code",
   "execution_count": 1,
   "metadata": {
    "scrolled": true
   },
   "outputs": [
    {
     "name": "stdout",
     "output_type": "stream",
     "text": [
      "\u001b[1mCharacteristicExtract\u001b[0m \u001b[92m────────────────────────────────────────────────────────────────────────────────────────────────────────────────────────────────\u001b[0m\n",
      "\n",
      "\u001b[1m \u001b[0m\u001b[1mState    \u001b[0m\u001b[1m \u001b[0m\u001b[1m \u001b[0m\u001b[1mEnd           \u001b[0m\u001b[1m \u001b[0m\u001b[1m \u001b[0m\u001b[1mJobID  \u001b[0m\u001b[1m \u001b[0m\u001b[1m \u001b[0m\u001b[1mJobName   \u001b[0m\u001b[1m \u001b[0m\u001b[1m \u001b[0m\u001b[1mSegment\u001b[0m\u001b[1m \u001b[0m\u001b[1m \u001b[0m\u001b[1mElapsed \u001b[0m\u001b[1m \u001b[0m\u001b[1m \u001b[0m\u001b[1mNodes\u001b[0m\u001b[1m \u001b[0m\u001b[1m \u001b[0m\u001b[1mNodeList\u001b[0m\u001b[1m \u001b[0m\u001b[1m \u001b[0m\u001b[1mTime [M]\u001b[0m\u001b[1m \u001b[0m\n",
      " \u001b[32mCOMPLETED\u001b[0m  today 22:16:44  4024252  SpectreCCE  -        05:27:56  1      node2341  6880     \n",
      " \u001b[31mFAILED\u001b[0m     today 16:44:49  4024226  SpectreCCE  -        00:00:02  1      node1319  -        \n",
      " \u001b[31mFAILED\u001b[0m     today 16:40:48  4024207  SpectreCCE  -        00:00:01  1      node1343  -        \n",
      "\n",
      "\u001b[1mEvolveGhBinaryBlackHole\u001b[0m \u001b[92m──────────────────────────────────────────────────────────────────────────────────────────────────────────────────────────────\u001b[0m\n",
      "\n",
      "\u001b[1m           \u001b[0m\u001b[1m              \u001b[0m\u001b[1m         \u001b[0m\u001b[1m              \u001b[0m\u001b[1m         \u001b[0m\u001b[1m          \u001b[0m\u001b[1m       \u001b[0m\u001b[1m             \u001b[0m\u001b[1m          \u001b[0m\u001b[1m             \u001b[0m\u001b[1m             \u001b[0m\u001b[1m \u001b[0m\u001b[1mSeparation  \u001b[0m\u001b[1m \u001b[0m\u001b[1m \u001b[0m\u001b[1m3-Index    \u001b[0m\u001b[1m \u001b[0m\n",
      "\u001b[1m \u001b[0m\u001b[1mState    \u001b[0m\u001b[1m \u001b[0m\u001b[1m \u001b[0m\u001b[1mEnd         \u001b[0m\u001b[1m \u001b[0m\u001b[1m \u001b[0m\u001b[1mJobID  \u001b[0m\u001b[1m \u001b[0m\u001b[1m \u001b[0m\u001b[1mJobName     \u001b[0m\u001b[1m \u001b[0m\u001b[1m \u001b[0m\u001b[1mSegment\u001b[0m\u001b[1m \u001b[0m\u001b[1m \u001b[0m\u001b[1mElapsed \u001b[0m\u001b[1m \u001b[0m\u001b[1m \u001b[0m\u001b[1mNodes\u001b[0m\u001b[1m \u001b[0m\u001b[1m \u001b[0m\u001b[1mNodeList   \u001b[0m\u001b[1m \u001b[0m\u001b[1m \u001b[0m\u001b[1mTime [M]\u001b[0m\u001b[1m \u001b[0m\u001b[1m \u001b[0m\u001b[1mSpeed [M/h]\u001b[0m\u001b[1m \u001b[0m\u001b[1m \u001b[0m\u001b[1mOrbits     \u001b[0m\u001b[1m \u001b[0m\u001b[1m \u001b[0m\u001b[1m[M]         \u001b[0m\u001b[1m \u001b[0m\u001b[1m \u001b[0m\u001b[1mConstraint \u001b[0m\u001b[1m \u001b[0m\n",
      " \u001b[31mFAILED\u001b[0m     today         4026120  bbh_fix       0000     00:25:39  1      node1931     1         2.60336      0.00158966   15.9778       3.40e-05    \n",
      "            21:55:00                                                                                                                                  \n",
      " \u001b[31mFAILED\u001b[0m     today         4024638  EvolveGhBin…  0000     00:02:22  2      node[1847-…  0         -            9.05801e-05  15.9981       0.00e+00    \n",
      "            18:21:43                                                                                                                                  \n",
      " \u001b[31mCANCELLED\u001b[0m  today         4024629  EvolveGhBin…  0000     00:00:00  2      -            -         -            -            -             -           \n",
      "            18:12:36                                                                                                                                  \n",
      "\n",
      "\u001b[1mSolveXcts\u001b[0m \u001b[92m────────────────────────────────────────────────────────────────────────────────────────────────────────────────────────────────────────────\u001b[0m\n",
      "\n",
      "\u001b[1m           \u001b[0m\u001b[1m                \u001b[0m\u001b[1m         \u001b[0m\u001b[1m           \u001b[0m\u001b[1m         \u001b[0m\u001b[1m          \u001b[0m\u001b[1m       \u001b[0m\u001b[1m          \u001b[0m\u001b[1m \u001b[0m\u001b[1mNonlinear      \u001b[0m\u001b[1m \u001b[0m\u001b[1m \u001b[0m\u001b[1mNonlinear      \u001b[0m\u001b[1m \u001b[0m\u001b[1m \u001b[0m\u001b[1mLinear         \u001b[0m\u001b[1m \u001b[0m\u001b[1m \u001b[0m\u001b[1mLinear        \u001b[0m\u001b[1m \u001b[0m\n",
      "\u001b[1m \u001b[0m\u001b[1mState    \u001b[0m\u001b[1m \u001b[0m\u001b[1m \u001b[0m\u001b[1mEnd           \u001b[0m\u001b[1m \u001b[0m\u001b[1m \u001b[0m\u001b[1mJobID  \u001b[0m\u001b[1m \u001b[0m\u001b[1m \u001b[0m\u001b[1mJobName  \u001b[0m\u001b[1m \u001b[0m\u001b[1m \u001b[0m\u001b[1mSegment\u001b[0m\u001b[1m \u001b[0m\u001b[1m \u001b[0m\u001b[1mElapsed \u001b[0m\u001b[1m \u001b[0m\u001b[1m \u001b[0m\u001b[1mNodes\u001b[0m\u001b[1m \u001b[0m\u001b[1m \u001b[0m\u001b[1mNodeList\u001b[0m\u001b[1m \u001b[0m\u001b[1m \u001b[0m\u001b[1miteration      \u001b[0m\u001b[1m \u001b[0m\u001b[1m \u001b[0m\u001b[1mresidual       \u001b[0m\u001b[1m \u001b[0m\u001b[1m \u001b[0m\u001b[1miteration      \u001b[0m\u001b[1m \u001b[0m\u001b[1m \u001b[0m\u001b[1mresidual      \u001b[0m\u001b[1m \u001b[0m\n",
      " \u001b[32mCOMPLETED\u001b[0m  today 17:51:29  4024473  SolveXcts  -        00:06:39  1      node1907  6                7.5e-10          69               7.5e-10        \n"
     ]
    }
   ],
   "source": [
    "%%bash\n",
    "# This just increases the column width so you can see everything nicely. Jupyter terminals are weird\n",
    "export COLUMNS=150\n",
    "spectre status"
   ]
  },
  {
   "cell_type": "markdown",
   "metadata": {},
   "source": [
    "It will show you the state of your running simulations on this machine.\n",
    "\n",
    "> **Pro tip:** Try `spectre status -w 5` in a separate terminal to keep watch of\n",
    "> your simulations, updating every 5 seconds.\n",
    "\n",
    "You can also run a dashboard to give you a visual summary of your running\n",
    "simulations with lots of plots (this is still very experimental). Note that all of the info in the dashboard can be plotted with the CLI or python bindings. This just collects it all in a nice place. We'll take a look at some of the things that are plotted in the next hands-on session.\n",
    "\n",
    "```sh\n",
    "python-spectre -m streamlit run $SPECTRE_HOME/tools/Status/Dashboard.py\n",
    "```\n",
    "\n",
    "We have the dashboard running on Oscar, so if you're feeling adventorous you can\n",
    "forward port 8501 on Oscar's `vscode1` node and open the dashboard in your\n",
    "browser:\n",
    "\n",
    "- Dashboard URL: http://localhost:8501"
   ]
  },
  {
   "cell_type": "markdown",
   "metadata": {},
   "source": [
    "## Inspecting the input file\n",
    "\n",
    "SpECTRE simulations are defined by an input file in YAML format. The input file\n",
    "collects all options for the simulation and also specifies the C++ executable to\n",
    "run it.\n",
    "\n",
    "The inspiral input file that you just started running is here:\n",
    "\n",
    "```\n",
    "runs/01_bbh/002_Inspiral/Segment_0000/Inspiral.yaml\n",
    "```\n",
    "\n",
    "Open the input file (here in the jupyter server, use a terminal with vim/emacs, in vscode, or print it\n",
    "with `cat /path/to/input/file`) to inspect it. We'll go through all the options together.\n",
    "\n"
   ]
  },
  {
   "cell_type": "markdown",
   "metadata": {},
   "source": [
    "## Measureing Eccentricity\n",
    "\n",
    "We have basic support for measuring the orbital eccentricity and updating the\n",
    "initial orbital parameters to reduce the eccentricity. Work on automation and\n",
    "improvements of this procedure are ongoing, and mostly independent of the actual\n",
    "simulation code. You can do a quick estimate of the orbital eccentricity with\n",
    "the following. (Here we use some exiting data since your run probably hasn't gotten that far)"
   ]
  },
  {
   "cell_type": "code",
   "execution_count": 2,
   "metadata": {},
   "outputs": [
    {
     "name": "stderr",
     "output_type": "stream",
     "text": [
      "UsageError: %%bash is a cell magic, but the cell body is empty.\n"
     ]
    }
   ],
   "source": [
    "%%bash\n",
    "export BBH_DATA=/oscar/data/icerm/knelli/workshop_materials/01_monday/bbh_inspiral\n",
    "\n",
    "spectre eccentricity-control $BBH_DATA/BbhReductions.h5 --tmin 500 --tmax 2000 -o runs/eccentricity.pdf"
   ]
  },
  {
   "cell_type": "markdown",
   "metadata": {},
   "source": [
    "## Troubleshooting a BBH simulation\n",
    "\n",
    "If something fails (and of course it will), you can start by looking through the\n",
    "data you have. First, look at the log file of your simulation. It's often named\n",
    "`spectre.out` and located in the run directory of your simulation. Go to the\n",
    "very end of the file and look for error messages. If you see many error\n",
    "messages, the first one is often most helpful. Ideally, you'll find a stack\n",
    "trace with the function calls that lead to the error. The error message and the\n",
    "stack trace might already give you an idea as to what has happened.\n",
    "\n",
    "It will also be helpful to analyse the output data that your simulation has\n",
    "written up to this point, and look for anything fishy. In the next tutorial we\n",
    "will go through a lot of ways to analyse output data from your simulations.\n",
    "\n",
    "Once you have collected some clues as to what as happened, the best place to ask\n",
    "for help is the `#spectre` channel on the SXS Slack or email the core developers (core-devs@spectre-code.org). See you there!"
   ]
  },
  {
   "cell_type": "markdown",
   "metadata": {},
   "source": [
    "### Incoming characteristic speeds error\n",
    "\n",
    "By far the most common error you'll see in BBH runs with SpECTRE (and with SpEC for that matter) is something we refer to as \"incoming char speeds\". The error will look something like this:\n",
    "\n",
    "```\n",
    "DemandOutgoingCharSpeeds boundary condition violated with speed index 3 ingoing: -7.02605e-05\n",
    " speed: <a lot of numbers here that don't really matter>\n",
    "\n",
    "See gh::characteristic_speeds for the index ordering of characteristic speeds\n",
    "\n",
    "\n",
    "In element:[B14,(L1I1,L1I0,L2I0)]\n",
    "In direction: -2\n",
    "############ ERROR ############\n",
    "\n",
    "\n",
    "Type: SpectreError\n",
    "\n",
    "```\n",
    "\n",
    "While very common to get, this error is only a symptom of what really went wrong. Basically what's happening here is that with the Generalized Harmonic formulation, we have characteristic fields of the first order evolution equations that read as\n",
    "\n",
    "$$\n",
    "\\begin{align}\n",
    "  w^{g}_{ab} &= g_{ab}, \\\\\n",
    "  w^{0}_{iab} &= (\\delta^k_i-s^k s_i)\\Phi_{kab}, \\\\\n",
    "  w^{\\pm}_{ab} &= \\Pi_{ab}\\pm s^i\\Phi_{iab} -\\gamma_2 g_{ab},\n",
    "\\end{align}\n",
    "$$\n",
    "with associated characteristic speeds\n",
    "$$\n",
    "\\begin{eqnarray}\n",
    "  \\lambda_{w^g} =& -(1+\\gamma_1)\\beta^i s_i -v^i_g s_i, \\\\\n",
    "  \\lambda_{w^0} =& -\\beta^i s_i -v^i_g s_i, \\\\\n",
    "  \\lambda_{w^\\pm} =& \\pm \\alpha - \\beta^i s_i - v^i_g s_i,\n",
    "\\end{eqnarray}\n",
    "$$\n",
    "\n",
    "Specifically, the incoming char speed error is that $\\lambda_{w^-} < 0$ which means that we have information flowing into the computational domain from the excision surfaces. The issue is that we don't impose boundary conditions on the excisions. (think, what would those boundary conditions actually be?) Therefore, when $\\lambda_{w^-} < 0$, we just error out because there's nothing else to do.\n",
    "\n",
    "In order to find the real cause of what went wrong, you have to analyze all the output from the simulation. The first thing to look at in this case is what the control system (which controls the size and shape of the excision surfaces) is doing. There are two CLI commands that will give a good overview of what happened (with some BBH data that has already been produced)"
   ]
  },
  {
   "cell_type": "code",
   "execution_count": null,
   "metadata": {},
   "outputs": [],
   "source": [
    "%%bash\n",
    "export BBH_DATA=/oscar/data/icerm/knelli/workshop_materials/01_monday/bbh_inspiral\n",
    "\n",
    "# There are two BHs, A and B. Choose A for now\n",
    "spectre plot size-control -d A -o runs/SizeA.pdf $BBH_DATA/BbhReductions.h5\n",
    "spectre plot control-system -o runs/ControlSystem.pdf $BBH_DATA/BbhReductions.h5"
   ]
  },
  {
   "cell_type": "markdown",
   "metadata": {},
   "source": [
    "Take a look at the PDFs that were produced. We won't go into details about these plots, but if you include these in your message to the Slack or core devs, they'll be extremely grateful :)"
   ]
  },
  {
   "cell_type": "markdown",
   "metadata": {},
   "source": [
    "## Reproducibility of simulations\n",
    "\n",
    "A quick note on reproducibility, which is a crucial topic in scientific\n",
    "computing:\n",
    "\n",
    "SpECTRE simulations are reasonably well reproducible because (1) all options are\n",
    "defined in the YAML input file, and (2) the input file and even the entire\n",
    "source code used to compile the executable are stored in each H5 output file.\n",
    "\n",
    "So, for the highest level of reproducibility you can extract the input file from\n",
    "an H5 output file (see `spectre extract-input --help`), and also extract the\n",
    "source code archive (see\n",
    "[docs](https://spectre-code.org/tutorial_visualization.html#autotoc_md93)), then\n",
    "compile and run the executable.\n",
    "\n",
    "To help with reproducibility of results you publish in papers, we recommend that\n",
    "you publish your input files as supplementary material and also cite the\n",
    "specific code release with which you ran your simulations (see [Versioning and\n",
    "releases](https://spectre-code.org/versioning_and_releases.html))."
   ]
  },
  {
   "cell_type": "markdown",
   "metadata": {},
   "source": [
    "## Running other simulations\n",
    "\n",
    "We have so far only built a pipeline for BBH simulations. Other executables can\n",
    "be run by editing a YAML input file and passing it to the executable. Many\n",
    "executables have example input files in the `tests/InputFiles/` directory that\n",
    "you can take as a starting point. For example, we can run a quick scalar wave\n",
    "like this:"
   ]
  },
  {
   "cell_type": "code",
   "execution_count": null,
   "metadata": {},
   "outputs": [],
   "source": [
    "%%bash\n",
    "mkdir -p runs\n",
    "cd runs\n",
    "cp $SPECTRE_HOME/tests/InputFiles/ScalarWave/PlaneWave3D.yaml .\n",
    "\n",
    "spectre run PlaneWave3D.yaml -o test_scalar_wave"
   ]
  },
  {
   "cell_type": "markdown",
   "metadata": {},
   "source": [
    "The `run` command (or its alias `schedule`) will submit a job with the input\n",
    "file. It also allow to put placeholders in the input file that can be filled\n",
    "from the command line. For example, make this change in `runs/test_scalar/wave/PlaneWave3D.yaml`:\n",
    "\n",
    "```diff\n",
    "@@ -20,7 +20,7 @@ InitialData:\n",
    "     Center: [0.0, 0.0, 0.0]\n",
    "     Profile:\n",
    "       Sinusoid:\n",
    "-        Amplitude: 1.0\n",
    "+        Amplitude: {{ amplitude }}\n",
    "         Wavenumber: 1.0\n",
    "         Phase: 0.0\n",
    "```\n",
    "\n",
    "Now you can run it like this:"
   ]
  },
  {
   "cell_type": "code",
   "execution_count": null,
   "metadata": {},
   "outputs": [],
   "source": [
    "%%bash\n",
    "mkdir -p runs\n",
    "cd runs\n",
    "\n",
    "spectre run PlaneWave3D.yaml -o \"test_scalar_wave_A{{amplitude}}\" -p amplitude=1,2,3"
   ]
  },
  {
   "cell_type": "markdown",
   "metadata": {},
   "source": [
    "Three jobs will be run, each with a different value of the amplitude.\n",
    "\n",
    "You can also run executables manually, like this:\n",
    "\n",
    "```sh\n",
    "$SPECTRE_BUILD/EvolveScalarWave3D --input-file INPUT_FILE\n",
    "```\n",
    "\n",
    "With this method you have to deal with output directories, submit scripts, etc.\n",
    "yourself, so we recommend using `spectre run`/`spectre schedule` instead."
   ]
  }
 ],
 "metadata": {
  "kernelspec": {
   "display_name": "Python 3 (ipykernel)",
   "language": "python",
   "name": "python3"
  },
  "language_info": {
   "codemirror_mode": {
    "name": "ipython",
    "version": 3
   },
   "file_extension": ".py",
   "mimetype": "text/x-python",
   "name": "python",
   "nbconvert_exporter": "python",
   "pygments_lexer": "ipython3",
   "version": "3.9.16"
  }
 },
 "nbformat": 4,
 "nbformat_minor": 4
}
