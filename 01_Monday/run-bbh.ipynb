{
 "cells": [
  {
   "cell_type": "markdown",
   "metadata": {},
   "source": [
    "# Starting a binary black hole simulation\n",
    "\n",
    "One of the systems that we are simulating with SpECTRE are binary black hole\n",
    "(BBH) mergers and their gravitational waves at very high accuracy. In this\n",
    "tutorial we will start a BBH simulation with SpECTRE and monitor its output."
   ]
  },
  {
   "cell_type": "markdown",
   "metadata": {},
   "source": [
    "First, make sure that you have compiled all the executables you need for running\n",
    "BBH simulations:\n",
    "\n",
    "```sh\n",
    "make -j32 cli bbh\n",
    "```"
   ]
  },
  {
   "cell_type": "markdown",
   "metadata": {},
   "source": [
    "We will use the SpECTRE command-line interface (CLI) in this session. You have\n",
    "learned how to access the CLI in the technology check session. Try it now by\n",
    "exploring the `spectre bbh` subcommand of the CLI:"
   ]
  },
  {
   "cell_type": "code",
   "execution_count": 3,
   "metadata": {},
   "outputs": [
    {
     "name": "stdout",
     "output_type": "stream",
     "text": [
      "Usage: spectre bbh [OPTIONS] COMMAND [ARGS]...\n",
      "\n",
      "  Pipeline for binary black hole simulations.\n",
      "\n",
      "Options:\n",
      "  -h, --help  Show this message and exit.\n",
      "\n",
      "Commands:\n",
      "  find-horizon    Find an apparent horizon in volume data.\n",
      "  generate-id     Generate initial data for a BBH simulation.\n",
      "  postprocess-id  Postprocess initial data after generation.\n",
      "  start-inspiral  Schedule an inspiral simulation from initial data.\n",
      "  start-ringdown  Schedule a ringdown simulation from the inspiral.\n"
     ]
    }
   ],
   "source": [
    "!spectre bbh --help"
   ]
  },
  {
   "cell_type": "markdown",
   "metadata": {},
   "source": [
    "These subcommands are part of the BBH pipeline, which you can use to start and\n",
    "control BBH simulations. Steps in the BBH pipeline are, for example, generating\n",
    "the initial data, running the inspiral simulation, running the ringdown\n",
    "simulation, and extracting waveforms.\n",
    "\n",
    "> Note: all CLI commands are also available in Python, so everything you do with\n",
    "> the CLI you can also do in Python scripts. We will use Python to work with BBH\n",
    "> data in the next session.\n",
    "\n",
    "Using the pipeline, all you need to do to start a BBH simulation is this:"
   ]
  },
  {
   "cell_type": "markdown",
   "metadata": {},
   "source": [
    "```sh\n",
    "spectre bbh generate-id -q 1 --chi-A 0 0 0 --chi-B 0 0 0 -D 16 -w 0.015 -a 0 \\\n",
    "  -L 0 -P 8 -d ./01_bbh --evolve\n",
    "```"
   ]
  },
  {
   "cell_type": "markdown",
   "metadata": {},
   "source": [
    "That's it! Now your BBH simulation is scheduled on the cluster. Once the job\n",
    "runs, it will generate initial data, adjust the initial data parameters in a\n",
    "control loop so the horizon masses and spins match the given input, and then\n",
    "start an evolution from this initial data.\n",
    "\n",
    "Of course you can change parameters such as the mass-ratio $q$, the black hole\n",
    "spins $\\mathbf{\\chi}_A$ and $\\mathbf{\\chi}_B$, and the initial orbital\n",
    "parameters:\n",
    "\n",
    "- Coordinate separation $D_0$ (`-D`)\n",
    "- Orbital angular velocity $\\Omega_0$ (`-w`)\n",
    "- Radial expansion velocity $\\dot{a}_0$ (`-a`)\n",
    "\n",
    "Alternatively, you can choose `--eccentricity=0` plus either `--num-orbits`, or\n",
    "`--time-to-merger`, or one of the above orbital parameters to define the orbit\n",
    "based on post-Newtonian estimates.\n",
    "\n",
    "The `-L` and `-P` parameters control the resolution of the initial data.\n",
    "\n",
    "> To learn more about initial data generation you will have to wait until\n",
    "> Friday."
   ]
  },
  {
   "cell_type": "markdown",
   "metadata": {},
   "source": [
    "## Monitoring your simulation\n",
    "\n",
    "Now you can monitor your simulation. Try running:\n",
    "\n",
    "```sh\n",
    "spectre status\n",
    "```"
   ]
  },
  {
   "cell_type": "markdown",
   "metadata": {},
   "source": [
    "It will show you the state of your running simulations on this machine.\n",
    "\n",
    "> **Pro tip:** Try `spectre status -w 5` in a separate terminal to keep watch of\n",
    "> your simulations, updating every 5 seconds.\n",
    "\n",
    "You can also run a dashboard to give you a visual summary of your running\n",
    "simulations with lots of plots (this is still very experimental):\n",
    "\n",
    "```sh\n",
    "python-spectre -m streamlit run $SPECTRE_HOME/tools/Status/Dashboard.py\n",
    "```"
   ]
  },
  {
   "cell_type": "markdown",
   "metadata": {},
   "source": [
    "### Example: Plot trajectories\n",
    "\n",
    "You can use the spectre CLI to inspect the output data of the simulation while\n",
    "it is running. We will explore this in detail in the next tutorial. For now,\n",
    "just try to plot the trajectories:\n",
    "\n",
    "```sh\n",
    "spectre plot trajectories 01_bbh/002_Inspiral/Segment_*/BbhReductions.h5 \\\n",
    "  -o trajectories.pdf\n",
    "```\n",
    "\n",
    "![Trajectories](/home/nilsvu/sxscon-2024-tutorials/images/trajectories.png)\n",
    "\n",
    "> **Pro tip:** You can also regularly regenerate plots like this to monitor your\n",
    "> simulation. Try `watch spectre plot trajectories ...`."
   ]
  },
  {
   "cell_type": "markdown",
   "metadata": {},
   "source": [
    "## Starting the inspiral or ringdown separately\n",
    "\n",
    "The steps of the pipeline are connected, e.g. the `--evolve` flag passed to\n",
    "`spectre bbh generate-id` above will automatically start the inspiral right\n",
    "after initial data generation. However, you can also run each step in the\n",
    "pipeline on its own, e.g. to start the inspiral with different parameters or in\n",
    "another directory:\n",
    "\n",
    "```sh\n",
    "spectre bbh start-inspiral 01_bbh/001_InitialData/InitialData.yaml \\\n",
    "  --num-nodes 6 -O 01_bbh/002a_Inspiral\n",
    "```"
   ]
  },
  {
   "cell_type": "markdown",
   "metadata": {},
   "source": [
    "You can also start the inspiral from SpEC initial data:\n",
    "\n",
    "```sh\n",
    "spectre bbh start-inspiral path/to/ID_Params.perl -O bbh_spec\n",
    "```"
   ]
  },
  {
   "cell_type": "markdown",
   "metadata": {},
   "source": [
    "## Troubleshooting a BBH simulation"
   ]
  },
  {
   "cell_type": "markdown",
   "metadata": {},
   "source": [
    "## Eccentricity reduction\n",
    "\n",
    "We have basic support for measuring the orbital eccentricity and updating the\n",
    "initial orbital parameters to reduce the eccentricity. Work on automation and\n",
    "improvements of this procedure are ongoing, and mostly independent of the actual\n",
    "simulation code. You can do a quick estimate of the orbital eccentricity with\n",
    "this:\n",
    "\n",
    "```sh\n",
    "spectre eccentricity-control 01_bbh/002_Inspiral/Segment_0000/BbhReductions.h5 \\\n",
    "  --tmin 500 --tmax 2000 -o eccentricity.pdf\n",
    "```"
   ]
  },
  {
   "cell_type": "markdown",
   "metadata": {},
   "source": []
  }
 ],
 "metadata": {
  "kernelspec": {
   "display_name": "Python 3 (ipykernel)",
   "language": "python",
   "name": "python3"
  },
  "language_info": {
   "codemirror_mode": {
    "name": "ipython",
    "version": 3
   },
   "file_extension": ".py",
   "mimetype": "text/x-python",
   "name": "python",
   "nbconvert_exporter": "python",
   "pygments_lexer": "ipython3",
   "version": "3.11.6"
  }
 },
 "nbformat": 4,
 "nbformat_minor": 2
}
